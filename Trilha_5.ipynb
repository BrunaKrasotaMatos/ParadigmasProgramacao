{
  "cells": [
    {
      "cell_type": "markdown",
      "metadata": {
        "id": "view-in-github",
        "colab_type": "text"
      },
      "source": [
        "<a href=\"https://colab.research.google.com/github/BrunaKrasotaMatos/ParadigmasProgramacao/blob/main/Trilha_5.ipynb\" target=\"_parent\"><img src=\"https://colab.research.google.com/assets/colab-badge.svg\" alt=\"Open In Colab\"/></a>"
      ]
    },
    {
      "cell_type": "markdown",
      "metadata": {
        "id": "skOiG7MyCriR"
      },
      "source": [
        "# Trilha 5"
      ]
    },
    {
      "cell_type": "markdown",
      "metadata": {
        "id": "TR4sN5WlCthN"
      },
      "source": [
        "Seguindo o padrão de introduzir a linguagem de programação que será estudada nestas próximas quatro trilhas, nós vamos explorar algumas características da Linguagem R em um *Jupyter Notebook* que permite a reprodução dos blocos de código.\n",
        "\n",
        "O formato do notebook já é conhecido, e você encontrará aqui no e-book os *chunks* executáveis para auxiliar na fixação do conteúdo apresentado. Em alguns momentos encontrará também perguntas sem a resposta (de forma imediata) para que se sinta desafiado à respondê-la e avaliar o seu aprendizado. As respostas estarão no final do e-book, assim poderá comparar o que você fez com o que era esperado.\n",
        "\n",
        "É importante ressaltar que existem diversas formas diferentes de resolver o mesmo problema, e com isso em mente, entenda que a resposta apresentada é somente uma delas. **Confie no seu potencial de resolver problemas!** O importante é você aproveitar esta jornada e aprender o máximo possível para resolver os problemas que surgirem à sua frente. "
      ]
    },
    {
      "cell_type": "markdown",
      "metadata": {
        "id": "PqTVhH6_F3A8"
      },
      "source": [
        "## Introdução à Linguagem R"
      ]
    },
    {
      "cell_type": "markdown",
      "metadata": {
        "id": "YUbtDVkzEMq6"
      },
      "source": [
        "Para começar com a introdução à Linguagem R, vamos criar uma variável e atribuir o valor numérido 10 à ela. Como no *Python*, em R é possível atribuir um valor à variável utilizando o simbolo de igual (**=**), porém também há uma forma diferente, utilizando uma \"seta para a esquerda\" (**<-**) composta por um sinal de menor seguido de um hífem. "
      ]
    },
    {
      "cell_type": "code",
      "source": [
        "\"Hello, World\""
      ],
      "metadata": {
        "colab": {
          "base_uri": "https://localhost:8080/",
          "height": 34
        },
        "id": "XsexdAp1RMaV",
        "outputId": "00400a3c-7a8d-4aa6-b116-ca28fb6d886e"
      },
      "execution_count": null,
      "outputs": [
        {
          "output_type": "display_data",
          "data": {
            "text/html": [
              "'Hello, World'"
            ],
            "text/markdown": "'Hello, World'",
            "text/latex": "'Hello, World'",
            "text/plain": [
              "[1] \"Hello, World\""
            ]
          },
          "metadata": {}
        }
      ]
    },
    {
      "cell_type": "code",
      "execution_count": null,
      "metadata": {
        "colab": {
          "base_uri": "https://localhost:8080/",
          "height": 52
        },
        "id": "idQoYWRSEt4C",
        "outputId": "f3c8b35a-aea1-4ccc-9b64-d3ddb70c6d41"
      },
      "outputs": [
        {
          "output_type": "display_data",
          "data": {
            "text/html": [
              "20"
            ],
            "text/markdown": "20",
            "text/latex": "20",
            "text/plain": [
              "[1] 20"
            ]
          },
          "metadata": {}
        },
        {
          "output_type": "display_data",
          "data": {
            "text/html": [
              "10"
            ],
            "text/markdown": "10",
            "text/latex": "10",
            "text/plain": [
              "[1] 10"
            ]
          },
          "metadata": {}
        }
      ],
      "source": [
        "x = 20\n",
        "x\n",
        "\n",
        "x <- 10\n",
        "x"
      ]
    },
    {
      "cell_type": "code",
      "source": [
        ""
      ],
      "metadata": {
        "id": "RU0kx2Rn-9Ca"
      },
      "execution_count": null,
      "outputs": []
    },
    {
      "cell_type": "markdown",
      "metadata": {
        "id": "a-in6iZgGSWm"
      },
      "source": [
        "Repare que não existe uma declaração formal da variável, ela simplesmente recebe um valor qualquer e armazena este valor. Seguindo este conceito, a variável não é fortemente tipada, ou seja, o tipo de valor que está armazenado dentro dela pode sofrer alteração durante a execução do código.\n",
        "\n",
        "Veja o código abaixo, agora a variável X criada anteriormente com o valor 10 recebe um vetor de dez posições, começando em 1 e indo até 10. Ao visualizar o que há na variável X, é possível ver que o valor 10 que estava lá anteriormente foi substituído pelo vetor sem nenhum alerta. É importante prestar atenção à esta característica, pois é comum trabalhar com a manipulação de variáveis e objetos no R e executar determinados blocos de código de forma específica.\n",
        " "
      ]
    },
    {
      "cell_type": "code",
      "execution_count": null,
      "metadata": {
        "colab": {
          "base_uri": "https://localhost:8080/",
          "height": 34
        },
        "id": "1qr7aT7tCriW",
        "outputId": "6aa5e9e0-e5a2-44ae-951c-f9fc1a449abf"
      },
      "outputs": [
        {
          "output_type": "display_data",
          "data": {
            "text/html": [
              "<style>\n",
              ".list-inline {list-style: none; margin:0; padding: 0}\n",
              ".list-inline>li {display: inline-block}\n",
              ".list-inline>li:not(:last-child)::after {content: \"\\00b7\"; padding: 0 .5ex}\n",
              "</style>\n",
              "<ol class=list-inline><li>1</li><li>2</li><li>3</li><li>4</li><li>5</li><li>6</li><li>7</li><li>8</li><li>9</li><li>10</li></ol>\n"
            ],
            "text/markdown": "1. 1\n2. 2\n3. 3\n4. 4\n5. 5\n6. 6\n7. 7\n8. 8\n9. 9\n10. 10\n\n\n",
            "text/latex": "\\begin{enumerate*}\n\\item 1\n\\item 2\n\\item 3\n\\item 4\n\\item 5\n\\item 6\n\\item 7\n\\item 8\n\\item 9\n\\item 10\n\\end{enumerate*}\n",
            "text/plain": [
              " [1]  1  2  3  4  5  6  7  8  9 10"
            ]
          },
          "metadata": {}
        }
      ],
      "source": [
        "# Como funciona\n",
        "X <- c (1:10)\n",
        "X"
      ]
    },
    {
      "cell_type": "markdown",
      "metadata": {
        "id": "zMG6yaJHIFVW"
      },
      "source": [
        "Repare que, para criar este vetor de 10 posições, é utilizada a função **C** (que é chamada de *Combine*) informando qual é o elemento inicial e qual é o elemento final do vetor. Existem outras variações para o uso do *Combine*, recomendo ler a documentação para explorar o seu potencial.\n",
        "\n",
        "Para acessar a documentação de uma função no R, é possível chamar o código **help(Nome_da_Função)**, substituindo o Nome_da_Função pela função que você quer conhecer mais detalhes. Veja o código abaixo como é possível ter a documentação da função **C**."
      ]
    },
    {
      "cell_type": "code",
      "execution_count": null,
      "metadata": {
        "id": "jeyvxVggIhE4"
      },
      "outputs": [],
      "source": [
        "help(c)"
      ]
    },
    {
      "cell_type": "markdown",
      "metadata": {
        "id": "d4rMtlxmJOlo"
      },
      "source": [
        "Ainda explorando o vetor criado, é possível criar predicados para que o resultado retornado satisfaça estas condições. Os predicados são condições na linguagem de programação, que devem retornar apenas se o valor satisfaz aquela condição de forma positiva. Ou seja, se o valor da variável atende àquela condição o resultado é retornado, se não atender, a linguagem de programação não apresenta o resultado.\n",
        "\n",
        "Veja este exemplo, o predicado (ou condição) é apresentar apenas os valores no qual o **X > 8** no vetor de dez posições criado anteriormente. Repare que a condição é para valores acima de 8, e o próprio 8 não é retornado."
      ]
    },
    {
      "cell_type": "code",
      "execution_count": null,
      "metadata": {
        "colab": {
          "base_uri": "https://localhost:8080/",
          "height": 34
        },
        "id": "-ri82huJJ24N",
        "outputId": "04720605-66fe-48b7-e8fb-8eb5340e3741"
      },
      "outputs": [
        {
          "output_type": "display_data",
          "data": {
            "text/html": [
              "<style>\n",
              ".list-inline {list-style: none; margin:0; padding: 0}\n",
              ".list-inline>li {display: inline-block}\n",
              ".list-inline>li:not(:last-child)::after {content: \"\\00b7\"; padding: 0 .5ex}\n",
              "</style>\n",
              "<ol class=list-inline><li>9</li><li>10</li></ol>\n"
            ],
            "text/markdown": "1. 9\n2. 10\n\n\n",
            "text/latex": "\\begin{enumerate*}\n\\item 9\n\\item 10\n\\end{enumerate*}\n",
            "text/plain": [
              "[1]  9 10"
            ]
          },
          "metadata": {}
        }
      ],
      "source": [
        "X [(X > 8)]"
      ]
    },
    {
      "cell_type": "markdown",
      "metadata": {
        "id": "wGZyqS_9KSKb"
      },
      "source": [
        "Para incluir o 8 no resultado, a condição deve ser de **X >= 8**, assim, qualquer valor que esteja armazenado na variável e seja maior ou igual à oito aparecerá no resultado."
      ]
    },
    {
      "cell_type": "code",
      "execution_count": null,
      "metadata": {
        "colab": {
          "base_uri": "https://localhost:8080/",
          "height": 34
        },
        "id": "-Up89BrFKyri",
        "outputId": "0e599c02-2a3d-4e57-9ccf-06735e58f21e"
      },
      "outputs": [
        {
          "output_type": "display_data",
          "data": {
            "text/html": [
              "<style>\n",
              ".list-inline {list-style: none; margin:0; padding: 0}\n",
              ".list-inline>li {display: inline-block}\n",
              ".list-inline>li:not(:last-child)::after {content: \"\\00b7\"; padding: 0 .5ex}\n",
              "</style>\n",
              "<ol class=list-inline><li>8</li><li>9</li><li>10</li></ol>\n"
            ],
            "text/markdown": "1. 8\n2. 9\n3. 10\n\n\n",
            "text/latex": "\\begin{enumerate*}\n\\item 8\n\\item 9\n\\item 10\n\\end{enumerate*}\n",
            "text/plain": [
              "[1]  8  9 10"
            ]
          },
          "metadata": {}
        }
      ],
      "source": [
        "X [(X >= 8)]"
      ]
    },
    {
      "cell_type": "markdown",
      "metadata": {
        "id": "176yjDdKLgKe"
      },
      "source": [
        "\n",
        "> **Pergunta 1)**: Pensando desta forma, quais seriam as condições para garantir que o vetor retorne apenas os valores **1, 2, 3, 4 e 5** ?\n",
        "\n"
      ]
    },
    {
      "cell_type": "markdown",
      "metadata": {
        "id": "vnw06FJzMasj"
      },
      "source": [
        "Para acessar elementos dentro do vetor, é possível combinar condições no predicado. Por exemplo, se quisermos retornar valores que sejam maiores que 8 ou menores que 5 é necessário utilizar o simbolo **|** (*pipe*) para combinar esta condicional de *OR* explicando ao interpretador da linguagem que uma condição ou a outra é aceitável."
      ]
    },
    {
      "cell_type": "code",
      "execution_count": null,
      "metadata": {
        "colab": {
          "base_uri": "https://localhost:8080/",
          "height": 34
        },
        "id": "MHShvDhWCriU",
        "outputId": "3dc397a3-bd9f-40ad-87be-89dec2368ebc"
      },
      "outputs": [
        {
          "output_type": "display_data",
          "data": {
            "text/html": [
              "<style>\n",
              ".list-inline {list-style: none; margin:0; padding: 0}\n",
              ".list-inline>li {display: inline-block}\n",
              ".list-inline>li:not(:last-child)::after {content: \"\\00b7\"; padding: 0 .5ex}\n",
              "</style>\n",
              "<ol class=list-inline><li>1</li><li>2</li><li>3</li><li>4</li><li>9</li><li>10</li></ol>\n"
            ],
            "text/markdown": "1. 1\n2. 2\n3. 3\n4. 4\n5. 9\n6. 10\n\n\n",
            "text/latex": "\\begin{enumerate*}\n\\item 1\n\\item 2\n\\item 3\n\\item 4\n\\item 9\n\\item 10\n\\end{enumerate*}\n",
            "text/plain": [
              "[1]  1  2  3  4  9 10"
            ]
          },
          "metadata": {}
        }
      ],
      "source": [
        "X [(X > 8) | (X < 5)]\n"
      ]
    },
    {
      "cell_type": "markdown",
      "metadata": {
        "id": "3GzASVdxNWjv"
      },
      "source": [
        "Repare que os valores apresentados são 1, 2, 3, 4, 9 e 10. Isso é possível porque a condição pede que sejam retornados os valores abaixo de 5 **ou** acima de 8.\n",
        "\n",
        "Por outro lado, para garantir que duas condições sejam executadas em conjunto no mesmo bloco de código e serão retornadas com a combinação destas duas regras, é utilizado o simbolo **&** (*e comercial*) para indicar ao interpretador que a condição *AND* deve ser aplicada."
      ]
    },
    {
      "cell_type": "code",
      "execution_count": null,
      "metadata": {
        "colab": {
          "base_uri": "https://localhost:8080/",
          "height": 34
        },
        "id": "NvbxIhs6NrzY",
        "outputId": "ae8f349d-ebe1-49f8-ef5a-1adbb0ce6272"
      },
      "outputs": [
        {
          "output_type": "display_data",
          "data": {
            "text/html": [
              "<style>\n",
              ".list-inline {list-style: none; margin:0; padding: 0}\n",
              ".list-inline>li {display: inline-block}\n",
              ".list-inline>li:not(:last-child)::after {content: \"\\00b7\"; padding: 0 .5ex}\n",
              "</style>\n",
              "<ol class=list-inline><li>6</li><li>7</li></ol>\n"
            ],
            "text/markdown": "1. 6\n2. 7\n\n\n",
            "text/latex": "\\begin{enumerate*}\n\\item 6\n\\item 7\n\\end{enumerate*}\n",
            "text/plain": [
              "[1] 6 7"
            ]
          },
          "metadata": {}
        }
      ],
      "source": [
        "X[(X < 8) & (X > 5)]"
      ]
    },
    {
      "cell_type": "markdown",
      "metadata": {
        "id": "qahDLpaKOj75"
      },
      "source": [
        "Agora repare que, os valores retornados são apenas o 6 e 7. Isso acontece porque a condição diz que os valores devem ser inferiores à 8 **e** superiores à 5.\n",
        "\n",
        "Preste atenção à estas condicionais quando for criar suas regras de retorno de dados. No início é comum se confundir com cláusulas de *OR* e de *AND*."
      ]
    },
    {
      "cell_type": "markdown",
      "metadata": {
        "id": "7bmr1-2IPiu4"
      },
      "source": [
        "> **Pergunta 2)** O que acontece se escrever as condicionais do vetor desta forma **X[(X > 8) & (X < 5)]**? E porque isso aconteceu?\n",
        "\n"
      ]
    },
    {
      "cell_type": "markdown",
      "metadata": {
        "id": "9ysEBIY6TjVU"
      },
      "source": [
        "Outra forma de interagir com valores de vetor é criar as condicionais diretamente no vetor sem retornar seus elementos. Veja o exemplo utilizando apenas **X > 8**. Repare que o resultado é um conjunto de dez elementos com as marcações de *TRUE* para quem atende o predicado e *FALSE* para quem não atende. Isso acontece seguindo a mesma ideia do que foi visto nos exemplos anteriores neste e-book. A condição é validada pelo interpretador da linguagem R e retorna os valores que atender àquele predicado ou não. "
      ]
    },
    {
      "cell_type": "code",
      "execution_count": null,
      "metadata": {
        "colab": {
          "base_uri": "https://localhost:8080/",
          "height": 34
        },
        "id": "lC0AWbhkCriX",
        "outputId": "9a985126-4a5d-46ad-f809-5c32d4476c53"
      },
      "outputs": [
        {
          "output_type": "display_data",
          "data": {
            "text/html": [
              "<style>\n",
              ".list-inline {list-style: none; margin:0; padding: 0}\n",
              ".list-inline>li {display: inline-block}\n",
              ".list-inline>li:not(:last-child)::after {content: \"\\00b7\"; padding: 0 .5ex}\n",
              "</style>\n",
              "<ol class=list-inline><li>FALSE</li><li>FALSE</li><li>FALSE</li><li>FALSE</li><li>FALSE</li><li>FALSE</li><li>FALSE</li><li>FALSE</li><li>TRUE</li><li>TRUE</li></ol>\n"
            ],
            "text/markdown": "1. FALSE\n2. FALSE\n3. FALSE\n4. FALSE\n5. FALSE\n6. FALSE\n7. FALSE\n8. FALSE\n9. TRUE\n10. TRUE\n\n\n",
            "text/latex": "\\begin{enumerate*}\n\\item FALSE\n\\item FALSE\n\\item FALSE\n\\item FALSE\n\\item FALSE\n\\item FALSE\n\\item FALSE\n\\item FALSE\n\\item TRUE\n\\item TRUE\n\\end{enumerate*}\n",
            "text/plain": [
              " [1] FALSE FALSE FALSE FALSE FALSE FALSE FALSE FALSE  TRUE  TRUE"
            ]
          },
          "metadata": {}
        }
      ],
      "source": [
        "X > 8"
      ]
    },
    {
      "cell_type": "markdown",
      "metadata": {
        "id": "azNRtY3CUw5b"
      },
      "source": [
        "Veja que somente os dois ultimos elementos do vetor são retornados como *TRUE*, porque somente eles atendem aos critérios estabelecidos no código de **X > 8**.\n",
        "\n",
        "Da mesma forma que, ao solicitar ao interpretador o resultado de **X < 5**, somente os quatro primeiros resultados serão retornados como *TRUE* enquanto os outros serão *FALSE*."
      ]
    },
    {
      "cell_type": "code",
      "execution_count": null,
      "metadata": {
        "colab": {
          "base_uri": "https://localhost:8080/",
          "height": 34
        },
        "id": "xMOhsBlSCriY",
        "outputId": "8e0d3dae-bcf7-42c3-cfe9-5b784787cbb1"
      },
      "outputs": [
        {
          "output_type": "display_data",
          "data": {
            "text/html": [
              "<style>\n",
              ".list-inline {list-style: none; margin:0; padding: 0}\n",
              ".list-inline>li {display: inline-block}\n",
              ".list-inline>li:not(:last-child)::after {content: \"\\00b7\"; padding: 0 .5ex}\n",
              "</style>\n",
              "<ol class=list-inline><li>TRUE</li><li>TRUE</li><li>TRUE</li><li>TRUE</li><li>FALSE</li><li>FALSE</li><li>FALSE</li><li>FALSE</li><li>FALSE</li><li>FALSE</li></ol>\n"
            ],
            "text/markdown": "1. TRUE\n2. TRUE\n3. TRUE\n4. TRUE\n5. FALSE\n6. FALSE\n7. FALSE\n8. FALSE\n9. FALSE\n10. FALSE\n\n\n",
            "text/latex": "\\begin{enumerate*}\n\\item TRUE\n\\item TRUE\n\\item TRUE\n\\item TRUE\n\\item FALSE\n\\item FALSE\n\\item FALSE\n\\item FALSE\n\\item FALSE\n\\item FALSE\n\\end{enumerate*}\n",
            "text/plain": [
              " [1]  TRUE  TRUE  TRUE  TRUE FALSE FALSE FALSE FALSE FALSE FALSE"
            ]
          },
          "metadata": {}
        }
      ],
      "source": [
        "X < 5"
      ]
    },
    {
      "cell_type": "markdown",
      "metadata": {
        "id": "L-hbqssVVLkO"
      },
      "source": [
        "Desta forma de interação também é possível retornar os valores com as condições de *OR* e de *AND*, a diferença é que o retorno será de *TRUE* ou *FALSE*. Ao observar o bloco de código que possui a condição com **X > 8 | X < 5** os valores que retornam como *TRUE* são os que atendem a condição do predicado enquanto os outros valores retornam como *FALSE*."
      ]
    },
    {
      "cell_type": "code",
      "execution_count": null,
      "metadata": {
        "id": "xssZniSkCriZ",
        "outputId": "6a590814-c3af-4eea-a602-beb05e4a328d",
        "colab": {
          "base_uri": "https://localhost:8080/",
          "height": 34
        }
      },
      "outputs": [
        {
          "output_type": "display_data",
          "data": {
            "text/html": [
              "<style>\n",
              ".list-inline {list-style: none; margin:0; padding: 0}\n",
              ".list-inline>li {display: inline-block}\n",
              ".list-inline>li:not(:last-child)::after {content: \"\\00b7\"; padding: 0 .5ex}\n",
              "</style>\n",
              "<ol class=list-inline><li>TRUE</li><li>TRUE</li><li>TRUE</li><li>TRUE</li><li>FALSE</li><li>FALSE</li><li>FALSE</li><li>FALSE</li><li>TRUE</li><li>TRUE</li></ol>\n"
            ],
            "text/markdown": "1. TRUE\n2. TRUE\n3. TRUE\n4. TRUE\n5. FALSE\n6. FALSE\n7. FALSE\n8. FALSE\n9. TRUE\n10. TRUE\n\n\n",
            "text/latex": "\\begin{enumerate*}\n\\item TRUE\n\\item TRUE\n\\item TRUE\n\\item TRUE\n\\item FALSE\n\\item FALSE\n\\item FALSE\n\\item FALSE\n\\item TRUE\n\\item TRUE\n\\end{enumerate*}\n",
            "text/plain": [
              " [1]  TRUE  TRUE  TRUE  TRUE FALSE FALSE FALSE FALSE  TRUE  TRUE"
            ]
          },
          "metadata": {}
        }
      ],
      "source": [
        "X > 8 | X < 5\n"
      ]
    },
    {
      "cell_type": "markdown",
      "metadata": {
        "id": "J1PfHlheZYJP"
      },
      "source": [
        "Desta forma, ao misturarmos os conhecimentos aprendidos até agora neste e-book, é possível entender como o vetor retorna os valores que estão em seus elementos a partir de valores *TRUE* e *FALSE*, ou seja, dentro deste vetor de 10 posições é possível definir quais elementos serão apresentados no resultado a partir desta definição de *TRUE* e *FALSE*.\n",
        "\n",
        "Sendo assim, veja o que acontece ao informar um **C** com um conjunto de *T* (que equivale a *TRUE*) e *F* (que é *FALSE*) para mostrar os valores do vetor."
      ]
    },
    {
      "cell_type": "code",
      "execution_count": null,
      "metadata": {
        "id": "Lnc5LfEjCria",
        "outputId": "10f23c0e-608c-4036-adcf-0e4665f6f20b",
        "colab": {
          "base_uri": "https://localhost:8080/",
          "height": 34
        }
      },
      "outputs": [
        {
          "output_type": "display_data",
          "data": {
            "text/html": [
              "<style>\n",
              ".list-inline {list-style: none; margin:0; padding: 0}\n",
              ".list-inline>li {display: inline-block}\n",
              ".list-inline>li:not(:last-child)::after {content: \"\\00b7\"; padding: 0 .5ex}\n",
              "</style>\n",
              "<ol class=list-inline><li>1</li><li>2</li><li>3</li><li>4</li><li>9</li><li>10</li></ol>\n"
            ],
            "text/markdown": "1. 1\n2. 2\n3. 3\n4. 4\n5. 9\n6. 10\n\n\n",
            "text/latex": "\\begin{enumerate*}\n\\item 1\n\\item 2\n\\item 3\n\\item 4\n\\item 9\n\\item 10\n\\end{enumerate*}\n",
            "text/plain": [
              "[1]  1  2  3  4  9 10"
            ]
          },
          "metadata": {}
        }
      ],
      "source": [
        "X [c (T, T, T, T, F, F, F, F, T, T)]"
      ]
    },
    {
      "cell_type": "markdown",
      "metadata": {
        "id": "en8JRUlWbiOY"
      },
      "source": [
        "Repare que os valores do *Combine* que possuiam o valor *T* estavam nas posições 1, 2, 3, 4, 9 e 10. Sendo assim, os valores que estavam nesta posição do vetor foram apresentados."
      ]
    },
    {
      "cell_type": "markdown",
      "metadata": {
        "id": "AxTm03ppcjDN"
      },
      "source": [
        "> **Pergunta 3)** Revise um dos primeiros blocos de código que utilizamos aqui no e-book: **X [(X > 8)]**. Você consegue dizer o que o elemento *(X > 8)* faz? Explique o comportamento deste elemento para o resultado que chegou."
      ]
    },
    {
      "cell_type": "markdown",
      "metadata": {
        "id": "bIkqd4iOfuNk"
      },
      "source": [
        "Nos exemplos anteriores foi estudado os efeitos de valores numéricos em um vetor de 10 posições. Mas será que é possível ter os mesmos resultados ao se trabalhar com um vetor de texto? Vamos explorar as mesmas operações, contudo, em um conjunto de texto que vai de *a* até *j*. \n",
        "\n",
        "Veja o exemplo de código onde a variável *X* recebe um *Combine* com os 10 caracteres para preencher este vetor."
      ]
    },
    {
      "cell_type": "code",
      "execution_count": null,
      "metadata": {
        "colab": {
          "base_uri": "https://localhost:8080/",
          "height": 34
        },
        "id": "0Dli9jSReuHa",
        "outputId": "02d996f1-ba0f-4a52-cced-829b8ed2722f"
      },
      "outputs": [
        {
          "output_type": "display_data",
          "data": {
            "text/html": [
              "<style>\n",
              ".list-inline {list-style: none; margin:0; padding: 0}\n",
              ".list-inline>li {display: inline-block}\n",
              ".list-inline>li:not(:last-child)::after {content: \"\\00b7\"; padding: 0 .5ex}\n",
              "</style>\n",
              "<ol class=list-inline><li>'a'</li><li>'b'</li><li>'c'</li><li>'d'</li><li>'e'</li><li>'f'</li><li>'g'</li><li>'h'</li><li>'i'</li><li>'j'</li></ol>\n"
            ],
            "text/markdown": "1. 'a'\n2. 'b'\n3. 'c'\n4. 'd'\n5. 'e'\n6. 'f'\n7. 'g'\n8. 'h'\n9. 'i'\n10. 'j'\n\n\n",
            "text/latex": "\\begin{enumerate*}\n\\item 'a'\n\\item 'b'\n\\item 'c'\n\\item 'd'\n\\item 'e'\n\\item 'f'\n\\item 'g'\n\\item 'h'\n\\item 'i'\n\\item 'j'\n\\end{enumerate*}\n",
            "text/plain": [
              " [1] \"a\" \"b\" \"c\" \"d\" \"e\" \"f\" \"g\" \"h\" \"i\" \"j\""
            ]
          },
          "metadata": {}
        }
      ],
      "source": [
        "X <- c('a','b','c','d','e','f','g','h','i','j')\n",
        "X"
      ]
    },
    {
      "cell_type": "markdown",
      "metadata": {
        "id": "6vm9HorYg3VW"
      },
      "source": [
        "Como o vetor recebe praticamente todo tipo de dado, ele também trabalha bem com os caracteres simples que foram informados no preenchimento da variável X. Repare que é a mesma variável utilizada deste o inicio dos exemplos deste e-book, ou seja, uma unica variável manipula todos os exemplos apresentados. \n",
        "\n",
        "A aplicação de condições no vetor segue o mesmo padrão do que estudamos anteriormente. Acompanhe o codigo que verifica todos os elementos que são maiores e igual a *d*. Veja que o resultado é *d*, *e*, *f*, *g*, *h*, *i* e *j*.\n",
        "\n"
      ]
    },
    {
      "cell_type": "code",
      "execution_count": null,
      "metadata": {
        "colab": {
          "base_uri": "https://localhost:8080/",
          "height": 34
        },
        "id": "LEOIGjHdhBU1",
        "outputId": "64d26c1f-8271-485d-c316-6fe4faace7ca"
      },
      "outputs": [
        {
          "output_type": "display_data",
          "data": {
            "text/html": [
              "<style>\n",
              ".list-inline {list-style: none; margin:0; padding: 0}\n",
              ".list-inline>li {display: inline-block}\n",
              ".list-inline>li:not(:last-child)::after {content: \"\\00b7\"; padding: 0 .5ex}\n",
              "</style>\n",
              "<ol class=list-inline><li>'d'</li><li>'e'</li><li>'f'</li><li>'g'</li><li>'h'</li><li>'i'</li><li>'j'</li></ol>\n"
            ],
            "text/markdown": "1. 'd'\n2. 'e'\n3. 'f'\n4. 'g'\n5. 'h'\n6. 'i'\n7. 'j'\n\n\n",
            "text/latex": "\\begin{enumerate*}\n\\item 'd'\n\\item 'e'\n\\item 'f'\n\\item 'g'\n\\item 'h'\n\\item 'i'\n\\item 'j'\n\\end{enumerate*}\n",
            "text/plain": [
              "[1] \"d\" \"e\" \"f\" \"g\" \"h\" \"i\" \"j\""
            ]
          },
          "metadata": {}
        }
      ],
      "source": [
        "X [(X >= 'd')]"
      ]
    },
    {
      "cell_type": "markdown",
      "metadata": {
        "id": "OKEFfiBc75Z3"
      },
      "source": [
        "Esta condição funciona mesmo que os dados estejam fora de ordem no vetor, veja o exemplo dos caracteres com uma ordem diferente da alfabética."
      ]
    },
    {
      "cell_type": "code",
      "execution_count": null,
      "metadata": {
        "colab": {
          "base_uri": "https://localhost:8080/",
          "height": 34
        },
        "id": "OZ-lkOFI6tYt",
        "outputId": "dc83f8f0-59b2-4cfa-b058-fa038abc3d5b"
      },
      "outputs": [
        {
          "output_type": "display_data",
          "data": {
            "text/html": [
              "<style>\n",
              ".list-inline {list-style: none; margin:0; padding: 0}\n",
              ".list-inline>li {display: inline-block}\n",
              ".list-inline>li:not(:last-child)::after {content: \"\\00b7\"; padding: 0 .5ex}\n",
              "</style>\n",
              "<ol class=list-inline><li>'f'</li><li>'d'</li><li>'g'</li><li>'h'</li><li>'i'</li><li>'e'</li><li>'j'</li></ol>\n"
            ],
            "text/markdown": "1. 'f'\n2. 'd'\n3. 'g'\n4. 'h'\n5. 'i'\n6. 'e'\n7. 'j'\n\n\n",
            "text/latex": "\\begin{enumerate*}\n\\item 'f'\n\\item 'd'\n\\item 'g'\n\\item 'h'\n\\item 'i'\n\\item 'e'\n\\item 'j'\n\\end{enumerate*}\n",
            "text/plain": [
              "[1] \"f\" \"d\" \"g\" \"h\" \"i\" \"e\" \"j\""
            ]
          },
          "metadata": {}
        }
      ],
      "source": [
        "X <- c('f','c','b','d','g','h','a','i','e','j')\n",
        "X [(X >= 'd')]"
      ]
    },
    {
      "cell_type": "markdown",
      "metadata": {
        "id": "tL0QrOzE8fqe"
      },
      "source": [
        "## Tipos de dados"
      ]
    },
    {
      "cell_type": "markdown",
      "metadata": {
        "id": "Hm8-7Vth8kKr"
      },
      "source": [
        "Durante o processo de desenvolvimento é importante saber qual é o tipo de dado que está atribuída à variável naquele momento. \n",
        "\n",
        "Para entender qual é a estrutura, a função *STR()* deve ser utilizada. Aqui pode causar uma confusão no entendimento, já que no *Python* esta função é utilizada para retornar o valor do objeto em *String*.\n",
        "\n",
        "Veja o bloco de código a seguir, onde o valor 1 é atribuído à variável *X*, e em seguida, o resultado da função *STR()*.\n"
      ]
    },
    {
      "cell_type": "code",
      "execution_count": null,
      "metadata": {
        "colab": {
          "base_uri": "https://localhost:8080/"
        },
        "id": "HpUg3V5o9Eht",
        "outputId": "b5e8e44a-3681-49cc-fcaa-6b936074cc87"
      },
      "outputs": [
        {
          "output_type": "stream",
          "name": "stdout",
          "text": [
            " num 1\n"
          ]
        }
      ],
      "source": [
        "X <- 1\n",
        "str(X)"
      ]
    },
    {
      "cell_type": "markdown",
      "metadata": {
        "id": "zm-7rd0M9BCd"
      },
      "source": [
        "Veja que o retorno foi *num*, indicando que é um valor numérico.  Porém, este resultado é meramente informativo.\n",
        "\n",
        "Agora, imagine uma situação no qual é necessário fazer um cálculo a partir da entrada do usuário. Como você poderia garantir que o usuário informou um valor numérico? Para isso, é possível verificar se o valor daquela variável é numérico utilizando a função *is.numeric()* e passando o valor a ser validado numérico como parâmetro. Se o resultado desta função for *TRUE* o interpretador do R garante que o valor é numérico, senão o resultado será *FALSE*."
      ]
    },
    {
      "cell_type": "code",
      "execution_count": null,
      "metadata": {
        "colab": {
          "base_uri": "https://localhost:8080/"
        },
        "id": "T3jBUhJi8xIW",
        "outputId": "1a974ad1-2118-4a64-dfe7-b0da95385199"
      },
      "outputs": [
        {
          "output_type": "display_data",
          "data": {
            "text/html": [
              "TRUE"
            ],
            "text/markdown": "TRUE",
            "text/latex": "TRUE",
            "text/plain": [
              "[1] TRUE"
            ]
          },
          "metadata": {}
        },
        {
          "output_type": "display_data",
          "data": {
            "text/html": [
              "1"
            ],
            "text/markdown": "1",
            "text/latex": "1",
            "text/plain": [
              "[1] 1"
            ]
          },
          "metadata": {}
        }
      ],
      "source": [
        "X <- 1\n",
        "is.numeric(X)\n",
        "X"
      ]
    },
    {
      "cell_type": "markdown",
      "metadata": {
        "id": "4ic2mEZtAm3i"
      },
      "source": [
        "Um ponto importante para destacar é que qualquer numero é definido como *num* mesmo que seja um valor inteiro. \n",
        "\n",
        "Há um tipo específico de variável chamado *int* que deve ser definido explicitamente com a função *as.integer()* e passando o valor a ser convertido para inteiro como parâmetro. Atenção para a diferença entre o *is.integer()* e o *as.integer()*. A função com o **is** tem o objetivo de comparar o valor e a função com o **as** faz a atribuição do valor para aquele tipo de dado.\n",
        "\n",
        "Veja três exemplos destas funções."
      ]
    },
    {
      "cell_type": "code",
      "execution_count": null,
      "metadata": {
        "colab": {
          "base_uri": "https://localhost:8080/",
          "height": 69
        },
        "id": "BB1wUAkXAsKw",
        "outputId": "0d87bd09-608b-453f-a9ef-d2843b675a28"
      },
      "outputs": [
        {
          "output_type": "display_data",
          "data": {
            "text/html": [
              "FALSE"
            ],
            "text/markdown": "FALSE",
            "text/latex": "FALSE",
            "text/plain": [
              "[1] FALSE"
            ]
          },
          "metadata": {}
        },
        {
          "output_type": "display_data",
          "data": {
            "text/html": [
              "3"
            ],
            "text/markdown": "3",
            "text/latex": "3",
            "text/plain": [
              "[1] 3"
            ]
          },
          "metadata": {}
        },
        {
          "output_type": "display_data",
          "data": {
            "text/html": [
              "TRUE"
            ],
            "text/markdown": "TRUE",
            "text/latex": "TRUE",
            "text/plain": [
              "[1] TRUE"
            ]
          },
          "metadata": {}
        }
      ],
      "source": [
        "X <- 3\n",
        "is.integer(X)\n",
        "X\n",
        "is.numeric(X)"
      ]
    },
    {
      "cell_type": "markdown",
      "metadata": {
        "id": "V9R5LaWMlwCE"
      },
      "source": [
        "Neste bloco a variável recebe um número e verifica se é um valor inteiro. O resultado será *FALSE* porque é um número e todos números são do tipo *numeric*."
      ]
    },
    {
      "cell_type": "code",
      "execution_count": null,
      "metadata": {
        "colab": {
          "base_uri": "https://localhost:8080/"
        },
        "id": "t7dDT60FlnM7",
        "outputId": "3ccc9556-ab13-4f5b-8d08-beb47d16ce56"
      },
      "outputs": [
        {
          "output_type": "display_data",
          "data": {
            "text/html": [
              "TRUE"
            ],
            "text/markdown": "TRUE",
            "text/latex": "TRUE",
            "text/plain": [
              "[1] TRUE"
            ]
          },
          "metadata": {}
        },
        {
          "output_type": "display_data",
          "data": {
            "text/html": [
              "3"
            ],
            "text/markdown": "3",
            "text/latex": "3",
            "text/plain": [
              "[1] 3"
            ]
          },
          "metadata": {}
        }
      ],
      "source": [
        "X <- as.integer(3)\n",
        "is.integer(X)\n",
        "X"
      ]
    },
    {
      "cell_type": "markdown",
      "metadata": {
        "id": "_yYeQBLFmOi3"
      },
      "source": [
        "Já neste exemplo, para atribuir o valor 3 à variável é utilizada a função explícita *as.integer*, em seguida é validado se é inteiro com a função *is.integer* e desta vez o resultado é *TRUE*.\n"
      ]
    },
    {
      "cell_type": "code",
      "execution_count": null,
      "metadata": {
        "colab": {
          "base_uri": "https://localhost:8080/",
          "height": 69
        },
        "id": "mCBXSZutlnYX",
        "outputId": "023a854e-5310-42f2-9ad2-7b6165e300ca"
      },
      "outputs": [
        {
          "output_type": "display_data",
          "data": {
            "text/html": [
              "FALSE"
            ],
            "text/markdown": "FALSE",
            "text/latex": "FALSE",
            "text/plain": [
              "[1] FALSE"
            ]
          },
          "metadata": {}
        },
        {
          "output_type": "display_data",
          "data": {
            "text/html": [
              "TRUE"
            ],
            "text/markdown": "TRUE",
            "text/latex": "TRUE",
            "text/plain": [
              "[1] TRUE"
            ]
          },
          "metadata": {}
        },
        {
          "output_type": "display_data",
          "data": {
            "text/html": [
              "4"
            ],
            "text/markdown": "4",
            "text/latex": "4",
            "text/plain": [
              "[1] 4"
            ]
          },
          "metadata": {}
        }
      ],
      "source": [
        "X <- 2+as.integer(2)\n",
        "is.integer(X)\n",
        "is.numeric(X)\n",
        "X"
      ]
    },
    {
      "cell_type": "markdown",
      "metadata": {
        "id": "Yu9Y6XD4nZ7u"
      },
      "source": [
        "Já neste exemplo, mesmo que através de uma somatória de valores 2 e 2 resultando 4, o valor final é um *numeric* e não um *integer* porque é necessário definir explicitamente esta conversão."
      ]
    },
    {
      "cell_type": "markdown",
      "metadata": {
        "id": "QFtRVeC7AtPb"
      },
      "source": [
        "Os códigos acima permitem que você compare os resultados dos blocos e veja a diferença entre o *num* e o *int*, como também a diferença entre o *is* e o *as* nas respostas.\n",
        "\n",
        "E para encerrar esse assunto, veja como ficam os elementos de texto e *bit* lógico (com valores *TRUE* e *FALSE*)."
      ]
    },
    {
      "cell_type": "code",
      "execution_count": null,
      "metadata": {
        "colab": {
          "base_uri": "https://localhost:8080/"
        },
        "id": "sJgI8dAoO1As",
        "outputId": "10aad468-d9dc-4e08-a130-9f9cf45d4d34"
      },
      "outputs": [
        {
          "output_type": "display_data",
          "data": {
            "text/html": [
              "TRUE"
            ],
            "text/markdown": "TRUE",
            "text/latex": "TRUE",
            "text/plain": [
              "[1] TRUE"
            ]
          },
          "metadata": {}
        },
        {
          "output_type": "display_data",
          "data": {
            "text/html": [
              "'2'"
            ],
            "text/markdown": "'2'",
            "text/latex": "'2'",
            "text/plain": [
              "[1] \"2\""
            ]
          },
          "metadata": {}
        }
      ],
      "source": [
        "X <- '2'\n",
        "is.character(X)\n",
        "X"
      ]
    },
    {
      "cell_type": "code",
      "execution_count": null,
      "metadata": {
        "id": "e1MLqHcSoKDc",
        "colab": {
          "base_uri": "https://localhost:8080/"
        },
        "outputId": "edf88175-ad6c-432e-dd43-e48840334043"
      },
      "outputs": [
        {
          "output_type": "display_data",
          "data": {
            "text/html": [
              "TRUE"
            ],
            "text/markdown": "TRUE",
            "text/latex": "TRUE",
            "text/plain": [
              "[1] TRUE"
            ]
          },
          "metadata": {}
        },
        {
          "output_type": "display_data",
          "data": {
            "text/html": [
              "TRUE"
            ],
            "text/markdown": "TRUE",
            "text/latex": "TRUE",
            "text/plain": [
              "[1] TRUE"
            ]
          },
          "metadata": {}
        }
      ],
      "source": [
        "X <- TRUE\n",
        "is.logical(X)\n",
        "X"
      ]
    },
    {
      "cell_type": "markdown",
      "metadata": {
        "id": "apY0OOVOOouX"
      },
      "source": [
        "Lembra lá no começo do e-book que exploramos um pouco de vetores? Como será que eles são entendidos dentro do intepretador? "
      ]
    },
    {
      "cell_type": "code",
      "execution_count": null,
      "metadata": {
        "colab": {
          "base_uri": "https://localhost:8080/"
        },
        "id": "ckOvrwBIOpmM",
        "outputId": "44661f2f-d716-4da5-f494-209eaba58cad"
      },
      "outputs": [
        {
          "output_type": "display_data",
          "data": {
            "text/html": [
              "TRUE"
            ],
            "text/markdown": "TRUE",
            "text/latex": "TRUE",
            "text/plain": [
              "[1] TRUE"
            ]
          },
          "metadata": {}
        },
        {
          "output_type": "display_data",
          "data": {
            "text/html": [
              "<style>\n",
              ".list-inline {list-style: none; margin:0; padding: 0}\n",
              ".list-inline>li {display: inline-block}\n",
              ".list-inline>li:not(:last-child)::after {content: \"\\00b7\"; padding: 0 .5ex}\n",
              "</style>\n",
              "<ol class=list-inline><li>5</li><li>6</li><li>7</li><li>8</li></ol>\n"
            ],
            "text/markdown": "1. 5\n2. 6\n3. 7\n4. 8\n\n\n",
            "text/latex": "\\begin{enumerate*}\n\\item 5\n\\item 6\n\\item 7\n\\item 8\n\\end{enumerate*}\n",
            "text/plain": [
              "[1] 5 6 7 8"
            ]
          },
          "metadata": {}
        },
        {
          "output_type": "display_data",
          "data": {
            "text/html": [
              "TRUE"
            ],
            "text/markdown": "TRUE",
            "text/latex": "TRUE",
            "text/plain": [
              "[1] TRUE"
            ]
          },
          "metadata": {}
        },
        {
          "output_type": "display_data",
          "data": {
            "text/html": [
              "<style>\n",
              ".list-inline {list-style: none; margin:0; padding: 0}\n",
              ".list-inline>li {display: inline-block}\n",
              ".list-inline>li:not(:last-child)::after {content: \"\\00b7\"; padding: 0 .5ex}\n",
              "</style>\n",
              "<ol class=list-inline><li>9</li><li>10</li><li>11</li><li>12</li></ol>\n"
            ],
            "text/markdown": "1. 9\n2. 10\n3. 11\n4. 12\n\n\n",
            "text/latex": "\\begin{enumerate*}\n\\item 9\n\\item 10\n\\item 11\n\\item 12\n\\end{enumerate*}\n",
            "text/plain": [
              "[1]  9 10 11 12"
            ]
          },
          "metadata": {}
        }
      ],
      "source": [
        "#Vetores\n",
        "X <- c(5,6,7,8)\n",
        "is.vector(X)\n",
        "X\n",
        "\n",
        "X <- c(9:12)\n",
        "is.vector(X)\n",
        "X"
      ]
    },
    {
      "cell_type": "markdown",
      "metadata": {
        "id": "bzj8euGhoP9T"
      },
      "source": [
        "## Matrizes"
      ]
    },
    {
      "cell_type": "markdown",
      "metadata": {
        "id": "EAMCkjKpPbX2"
      },
      "source": [
        "Outra forma de armazenamento e processamento de dados bastante utilizada em linguagens de programação estatística são as matrizes. As matrizes permitem mais de uma dimensão, diferente do que foi visto nos vetores na seção **Introdução à Linguagem R**. As matrizes permitem que dados sejam armazenados em linhas e colunas, só que sempre serão do mesmo tipo de dado. Isso significa que as matrizes não podem ter colunas com tipos de dados distintos, porém com um data frame (que serão vistos em outra trilha) é possível.\n",
        "\n",
        "Repare que nos exemplos de matrizes abaixo, o valor base será a variável *valores* que possui um vetor de seis posições começando em 1 e indo até 6. Os resultados das matrizes serão diferentes mesmo utilizando a mesma origem de dados.\n",
        "\n",
        "Porque isso acontece? O motivo é o preenchimento! Pode-se tomar alguns caminhos diferentes para preencher os dados dentro da matriz.\n",
        "\n",
        "Uma característica da matriz é a presença obrigatória da definição de quantas linhas (informado pelo parâmetro *nrow*) e colunas (parâmetro *ncol*) devem existir na matriz.\n",
        "\n",
        "Outra característica da matriz é o caminho do preenchimento das células, ou seja, a partir da posição [1,1] (sendo o primeiro elemento antes da virgula o índice da linha e o segundo elemento, após a virgula, o indice da coluna) onde será escrito o próximo valor. O parâmetro *byrow* recebe a opção de *TRUE* ou *FALSE*, sendo que, se informar *TRUE* os dados serão preenchidos percorrendo linha a linha, ou seja, preenche toda a linha 1 para então começar a linha 2, depois a 3 e assim por diante. Se não informar nada neste parâmetro o interpretador entende como *FALSE*, e então, o preenchimento será feito de forma colunar, preenchendo toda a primeira coluna, então parte para a segunda coluna, depois a terceira e assim por diante. "
      ]
    },
    {
      "cell_type": "code",
      "execution_count": null,
      "metadata": {
        "colab": {
          "base_uri": "https://localhost:8080/",
          "height": 132
        },
        "id": "IhqgDI-3Pb5o",
        "outputId": "9c01a3c6-ebc2-41e2-f2e1-f66f50771e63"
      },
      "outputs": [
        {
          "output_type": "display_data",
          "data": {
            "text/html": [
              "<table class=\"dataframe\">\n",
              "<caption>A matrix: 2 × 3 of type dbl</caption>\n",
              "<tbody>\n",
              "\t<tr><td>1</td><td>2</td><td>3</td></tr>\n",
              "\t<tr><td>4</td><td>5</td><td>6</td></tr>\n",
              "</tbody>\n",
              "</table>\n"
            ],
            "text/markdown": "\nA matrix: 2 × 3 of type dbl\n\n| 1 | 2 | 3 |\n| 4 | 5 | 6 |\n\n",
            "text/latex": "A matrix: 2 × 3 of type dbl\n\\begin{tabular}{lll}\n\t 1 & 2 & 3\\\\\n\t 4 & 5 & 6\\\\\n\\end{tabular}\n",
            "text/plain": [
              "     [,1] [,2] [,3]\n",
              "[1,] 1    2    3   \n",
              "[2,] 4    5    6   "
            ]
          },
          "metadata": {}
        }
      ],
      "source": [
        "valores <- c(1,2,3,4,5,6)\n",
        "\n",
        "X <- matrix(valores, nrow = 2, ncol = 3, byrow = TRUE)\n",
        "X\n"
      ]
    },
    {
      "cell_type": "markdown",
      "metadata": {
        "id": "RPl7g4CSpTK0"
      },
      "source": [
        "Esta é uma matriz [2,3] porque ela possui 2 linhas e 3 colunas. Seu preenchimento será linear, ou seja, os valores são preenchidos linha a linha."
      ]
    },
    {
      "cell_type": "code",
      "execution_count": null,
      "metadata": {
        "colab": {
          "base_uri": "https://localhost:8080/"
        },
        "id": "uTcV-tKkpPao",
        "outputId": "810296a1-00d9-4b9e-b8ee-dc91a3f54b61"
      },
      "outputs": [
        {
          "output_type": "display_data",
          "data": {
            "text/html": [
              "<table class=\"dataframe\">\n",
              "<caption>A matrix: 2 × 3 of type dbl</caption>\n",
              "<tbody>\n",
              "\t<tr><td>1</td><td>3</td><td>5</td></tr>\n",
              "\t<tr><td>2</td><td>4</td><td>6</td></tr>\n",
              "</tbody>\n",
              "</table>\n"
            ],
            "text/markdown": "\nA matrix: 2 × 3 of type dbl\n\n| 1 | 3 | 5 |\n| 2 | 4 | 6 |\n\n",
            "text/latex": "A matrix: 2 × 3 of type dbl\n\\begin{tabular}{lll}\n\t 1 & 3 & 5\\\\\n\t 2 & 4 & 6\\\\\n\\end{tabular}\n",
            "text/plain": [
              "     [,1] [,2] [,3]\n",
              "[1,] 1    3    5   \n",
              "[2,] 2    4    6   "
            ]
          },
          "metadata": {}
        }
      ],
      "source": [
        "X <- matrix(valores, nrow = 2, ncol = 3, byrow = FALSE)\n",
        "X"
      ]
    },
    {
      "cell_type": "markdown",
      "metadata": {
        "id": "o58AysTFpje3"
      },
      "source": [
        "Esta também é uma matriz [2,3] porém o seu preenchimento é colunar, ou seja, os valores são preenchidos na primeira coluna, depois na segunda, e assim por diante."
      ]
    },
    {
      "cell_type": "code",
      "execution_count": null,
      "metadata": {
        "colab": {
          "base_uri": "https://localhost:8080/"
        },
        "id": "k26zSPi9pPp-",
        "outputId": "e96c5739-3351-41e2-fed5-f9e8bd9eb30b"
      },
      "outputs": [
        {
          "output_type": "display_data",
          "data": {
            "text/html": [
              "<table class=\"dataframe\">\n",
              "<caption>A matrix: 3 × 3 of type dbl</caption>\n",
              "<tbody>\n",
              "\t<tr><td>1</td><td>4</td><td>1</td></tr>\n",
              "\t<tr><td>2</td><td>5</td><td>2</td></tr>\n",
              "\t<tr><td>3</td><td>6</td><td>3</td></tr>\n",
              "</tbody>\n",
              "</table>\n"
            ],
            "text/markdown": "\nA matrix: 3 × 3 of type dbl\n\n| 1 | 4 | 1 |\n| 2 | 5 | 2 |\n| 3 | 6 | 3 |\n\n",
            "text/latex": "A matrix: 3 × 3 of type dbl\n\\begin{tabular}{lll}\n\t 1 & 4 & 1\\\\\n\t 2 & 5 & 2\\\\\n\t 3 & 6 & 3\\\\\n\\end{tabular}\n",
            "text/plain": [
              "     [,1] [,2] [,3]\n",
              "[1,] 1    4    1   \n",
              "[2,] 2    5    2   \n",
              "[3,] 3    6    3   "
            ]
          },
          "metadata": {}
        }
      ],
      "source": [
        "X <- matrix(valores, nrow = 3, ncol = 3, byrow = FALSE)\n",
        "X"
      ]
    },
    {
      "cell_type": "markdown",
      "metadata": {
        "id": "Tg-CVjaKp0HG"
      },
      "source": [
        "Aqui tem um exemplo diferente, apesar da fonte de dados possuir apenas 6 valores, a definição da matriz é [3,3] e seu preenchimento é colunar. Porém, como há mais elementos na matriz do que na fonte de dados, o interpretador do R reinicia a fonte de dados e continua preenchendo a matriz até completar a quantidade de linhas e colunas que foram definidas.  "
      ]
    },
    {
      "cell_type": "code",
      "execution_count": null,
      "metadata": {
        "colab": {
          "base_uri": "https://localhost:8080/"
        },
        "id": "BwdPiOu6pP0U",
        "outputId": "7b1933bc-3de6-40ca-9478-3a68ccf8aff6"
      },
      "outputs": [
        {
          "output_type": "display_data",
          "data": {
            "text/html": [
              "<table class=\"dataframe\">\n",
              "<caption>A matrix: 3 × 2 of type dbl</caption>\n",
              "<tbody>\n",
              "\t<tr><td>1</td><td>4</td></tr>\n",
              "\t<tr><td>2</td><td>5</td></tr>\n",
              "\t<tr><td>3</td><td>6</td></tr>\n",
              "</tbody>\n",
              "</table>\n"
            ],
            "text/markdown": "\nA matrix: 3 × 2 of type dbl\n\n| 1 | 4 |\n| 2 | 5 |\n| 3 | 6 |\n\n",
            "text/latex": "A matrix: 3 × 2 of type dbl\n\\begin{tabular}{ll}\n\t 1 & 4\\\\\n\t 2 & 5\\\\\n\t 3 & 6\\\\\n\\end{tabular}\n",
            "text/plain": [
              "     [,1] [,2]\n",
              "[1,] 1    4   \n",
              "[2,] 2    5   \n",
              "[3,] 3    6   "
            ]
          },
          "metadata": {}
        }
      ],
      "source": [
        "X <- matrix(valores, nrow = 3, ncol = 2)\n",
        "X"
      ]
    },
    {
      "cell_type": "markdown",
      "metadata": {
        "id": "S2Bj25IEqiPs"
      },
      "source": [
        "Este exemplo é de uma matriz [3,2] e que omitiu a forma de preenchimento com o parâmetro *byrow*, implicando no preenchimento padrão da matriz que é colunar."
      ]
    },
    {
      "cell_type": "markdown",
      "metadata": {
        "id": "7yzOyDO3PeHg"
      },
      "source": [
        "Para encerrar os exemplos deste e-book, veja como é a sintaxe da criação de uma função própria. A criação de funções específicas permitirão reaproveitamento de código, e é uma técnica importante com linguagens de programação. No *Python* é utilizada a palavra reservada *def*, já aqui no R é utilizada a palavra *funcion* e segue a estrutura como deste exemplo:"
      ]
    },
    {
      "cell_type": "code",
      "execution_count": null,
      "metadata": {
        "id": "65NONRbqPeRu"
      },
      "outputs": [],
      "source": [
        "X <- function(a,b){\n",
        "       a * b\n",
        "}\n"
      ]
    },
    {
      "cell_type": "markdown",
      "metadata": {
        "id": "wZyAXdGwrc_r"
      },
      "source": [
        "A função que foi atribuída à variável X que estamos usando desde o começo do e-book recebe dois valores que estão nos parâmetros *a* e *b*, e realiza a multiplicação destes dois valores. "
      ]
    },
    {
      "cell_type": "code",
      "execution_count": null,
      "metadata": {
        "colab": {
          "base_uri": "https://localhost:8080/",
          "height": 34
        },
        "id": "uFkLQW9brYwc",
        "outputId": "b7b6299b-cf4a-450b-8ffd-8a8ea9fd2103"
      },
      "outputs": [
        {
          "output_type": "display_data",
          "data": {
            "text/html": [
              "10"
            ],
            "text/markdown": "10",
            "text/latex": "10",
            "text/plain": [
              "[1] 10"
            ]
          },
          "metadata": {}
        }
      ],
      "source": [
        "X(5,2)"
      ]
    },
    {
      "cell_type": "markdown",
      "metadata": {
        "id": "DuDIccJbQAd4"
      },
      "source": [
        "\n",
        "\n",
        "Para chamar a função e executar seu bloco de código, é só colocar o nome da função e passar os dois valores dos parâmetros. No exemplo acima, foi passado o valor 5 e 2, e a multiplicação deles resulta em 10, como visto no resultado apresentado."
      ]
    },
    {
      "cell_type": "markdown",
      "metadata": {
        "id": "F7ESvRpdrkNW"
      },
      "source": [
        "Neste e-book foi feita uma introdução à tópicos como:\n",
        "\n",
        "*   Vetores\n",
        "*   Tipos de variáveis\n",
        "*   Validação e atribuição de tipos\n",
        "*   Matrizes\n",
        "*   Funções\n",
        "\n"
      ]
    },
    {
      "cell_type": "markdown",
      "metadata": {
        "id": "x8pyOtu_L8rj"
      },
      "source": [
        "## Respostas das perguntas"
      ]
    },
    {
      "cell_type": "markdown",
      "metadata": {
        "id": "sH0vDfNoMAjv"
      },
      "source": [
        "**Pergunta 1)** Pensando desta forma, quais seriam as condições para garantir que o vetor retorne apenas os valores **1, 2, 3, 4 e 5** ?\n",
        "\n",
        "> **Resposta 1:** X[(X<=5)]\n",
        "\n",
        "\n"
      ]
    },
    {
      "cell_type": "markdown",
      "metadata": {
        "id": "RX-JPr5ySxBU"
      },
      "source": [
        "**Pergunta 2)** O que acontece se escrever as condicionais do vetor desta forma **X[(X > 8) & (X < 5)]**? E porque isso aconteceu?\n",
        "\n",
        "> **Resposta 2:** O resultado não apresenta nada. Isso acontece porque o vetor tem os valores 1, 2, 3, 4, 5, 6, 7, 8, 9 e 10. Com estes valores não há nenhum número que seja ao mesmo tempo maior que 8 e menor que 5. Como a condicional é um *AND* nenhum dos valores do vetor atende esse predicado."
      ]
    },
    {
      "cell_type": "markdown",
      "metadata": {
        "id": "if5qPtYcdeJx"
      },
      "source": [
        "**Pergunta 3)** Revise um dos primeiros blocos de código que utilizamos aqui no e-book: **X [(X > 8)]**. Você consegue dizer o que o elemento *(X > 8)* faz? Explique o comportamento deste elemento para o resultado que chegou.\n",
        "\n",
        "> **Resposta 3:** O elemento *(X > 8)* retornará \n",
        "um vetor com valores *TRUE* e *FALSE* onde somente os dois ultimos estão com valores *TRUE*. Estes valores *T* ou *F* são utilizados no vetor de 10 posições para saber quais serão impressas no resultado.\n",
        "\n"
      ]
    },
    {
      "cell_type": "markdown",
      "source": [
        ""
      ],
      "metadata": {
        "id": "ETmI0fZJCs5x"
      }
    },
    {
      "cell_type": "markdown",
      "source": [
        "# Notas adicionais do Professor Luciano\n"
      ],
      "metadata": {
        "id": "CWy8r9fSCwEi"
      }
    },
    {
      "cell_type": "markdown",
      "source": [
        "## Numeros Complexos"
      ],
      "metadata": {
        "id": "oDjC4zFbC4HL"
      }
    },
    {
      "cell_type": "code",
      "source": [
        "x = 1 + 1i\n",
        "x*x"
      ],
      "metadata": {
        "colab": {
          "base_uri": "https://localhost:8080/",
          "height": 34
        },
        "id": "_i0sCV9pC4ar",
        "outputId": "5a18e92a-7dd9-42df-f8a7-fd00a44e455f"
      },
      "execution_count": null,
      "outputs": [
        {
          "output_type": "display_data",
          "data": {
            "text/html": [
              "0+2i"
            ],
            "text/markdown": "0+2i",
            "text/latex": "0+2i",
            "text/plain": [
              "[1] 0+2i"
            ]
          },
          "metadata": {}
        }
      ]
    },
    {
      "cell_type": "markdown",
      "source": [
        "## Somando vetores"
      ],
      "metadata": {
        "id": "hW5lwdTpDbjo"
      }
    },
    {
      "cell_type": "code",
      "source": [
        "x = c(1:3)\n",
        "y = c(4:6)\n",
        "x\n",
        "y\n",
        "x+y"
      ],
      "metadata": {
        "colab": {
          "base_uri": "https://localhost:8080/",
          "height": 69
        },
        "id": "t5sC6wH5DVBb",
        "outputId": "02be45b2-8278-4cd2-b862-949852bd878a"
      },
      "execution_count": null,
      "outputs": [
        {
          "output_type": "display_data",
          "data": {
            "text/html": [
              "<style>\n",
              ".list-inline {list-style: none; margin:0; padding: 0}\n",
              ".list-inline>li {display: inline-block}\n",
              ".list-inline>li:not(:last-child)::after {content: \"\\00b7\"; padding: 0 .5ex}\n",
              "</style>\n",
              "<ol class=list-inline><li>1</li><li>2</li><li>3</li></ol>\n"
            ],
            "text/markdown": "1. 1\n2. 2\n3. 3\n\n\n",
            "text/latex": "\\begin{enumerate*}\n\\item 1\n\\item 2\n\\item 3\n\\end{enumerate*}\n",
            "text/plain": [
              "[1] 1 2 3"
            ]
          },
          "metadata": {}
        },
        {
          "output_type": "display_data",
          "data": {
            "text/html": [
              "<style>\n",
              ".list-inline {list-style: none; margin:0; padding: 0}\n",
              ".list-inline>li {display: inline-block}\n",
              ".list-inline>li:not(:last-child)::after {content: \"\\00b7\"; padding: 0 .5ex}\n",
              "</style>\n",
              "<ol class=list-inline><li>4</li><li>5</li><li>6</li></ol>\n"
            ],
            "text/markdown": "1. 4\n2. 5\n3. 6\n\n\n",
            "text/latex": "\\begin{enumerate*}\n\\item 4\n\\item 5\n\\item 6\n\\end{enumerate*}\n",
            "text/plain": [
              "[1] 4 5 6"
            ]
          },
          "metadata": {}
        },
        {
          "output_type": "display_data",
          "data": {
            "text/html": [
              "<style>\n",
              ".list-inline {list-style: none; margin:0; padding: 0}\n",
              ".list-inline>li {display: inline-block}\n",
              ".list-inline>li:not(:last-child)::after {content: \"\\00b7\"; padding: 0 .5ex}\n",
              "</style>\n",
              "<ol class=list-inline><li>5</li><li>7</li><li>9</li></ol>\n"
            ],
            "text/markdown": "1. 5\n2. 7\n3. 9\n\n\n",
            "text/latex": "\\begin{enumerate*}\n\\item 5\n\\item 7\n\\item 9\n\\end{enumerate*}\n",
            "text/plain": [
              "[1] 5 7 9"
            ]
          },
          "metadata": {}
        }
      ]
    },
    {
      "cell_type": "markdown",
      "source": [
        "## Multiplicação de matrizes"
      ],
      "metadata": {
        "id": "F7zg82PHEY_z"
      }
    },
    {
      "cell_type": "code",
      "source": [
        "a = matrix(c(1,3,5,7), ncol=2, nrow=2)\n",
        "a\n",
        "\n",
        "b = matrix(c(2,4,6,8), ncol=2, nrow=2)\n",
        "b\n",
        "\n",
        "\n",
        "a * b\n",
        "\n",
        "a %*% b"
      ],
      "metadata": {
        "colab": {
          "base_uri": "https://localhost:8080/",
          "height": 546
        },
        "id": "wb_vXocYDbJ3",
        "outputId": "a02886f1-9bfa-418c-f8cb-5f219e5b0fc9"
      },
      "execution_count": null,
      "outputs": [
        {
          "output_type": "display_data",
          "data": {
            "text/html": [
              "<table class=\"dataframe\">\n",
              "<caption>A matrix: 2 × 2 of type dbl</caption>\n",
              "<tbody>\n",
              "\t<tr><td>1</td><td>5</td></tr>\n",
              "\t<tr><td>3</td><td>7</td></tr>\n",
              "</tbody>\n",
              "</table>\n"
            ],
            "text/markdown": "\nA matrix: 2 × 2 of type dbl\n\n| 1 | 5 |\n| 3 | 7 |\n\n",
            "text/latex": "A matrix: 2 × 2 of type dbl\n\\begin{tabular}{ll}\n\t 1 & 5\\\\\n\t 3 & 7\\\\\n\\end{tabular}\n",
            "text/plain": [
              "     [,1] [,2]\n",
              "[1,] 1    5   \n",
              "[2,] 3    7   "
            ]
          },
          "metadata": {}
        },
        {
          "output_type": "display_data",
          "data": {
            "text/html": [
              "<table class=\"dataframe\">\n",
              "<caption>A matrix: 2 × 2 of type dbl</caption>\n",
              "<tbody>\n",
              "\t<tr><td>2</td><td>6</td></tr>\n",
              "\t<tr><td>4</td><td>8</td></tr>\n",
              "</tbody>\n",
              "</table>\n"
            ],
            "text/markdown": "\nA matrix: 2 × 2 of type dbl\n\n| 2 | 6 |\n| 4 | 8 |\n\n",
            "text/latex": "A matrix: 2 × 2 of type dbl\n\\begin{tabular}{ll}\n\t 2 & 6\\\\\n\t 4 & 8\\\\\n\\end{tabular}\n",
            "text/plain": [
              "     [,1] [,2]\n",
              "[1,] 2    6   \n",
              "[2,] 4    8   "
            ]
          },
          "metadata": {}
        },
        {
          "output_type": "display_data",
          "data": {
            "text/html": [
              "<table class=\"dataframe\">\n",
              "<caption>A matrix: 2 × 2 of type dbl</caption>\n",
              "<tbody>\n",
              "\t<tr><td> 2</td><td>30</td></tr>\n",
              "\t<tr><td>12</td><td>56</td></tr>\n",
              "</tbody>\n",
              "</table>\n"
            ],
            "text/markdown": "\nA matrix: 2 × 2 of type dbl\n\n|  2 | 30 |\n| 12 | 56 |\n\n",
            "text/latex": "A matrix: 2 × 2 of type dbl\n\\begin{tabular}{ll}\n\t  2 & 30\\\\\n\t 12 & 56\\\\\n\\end{tabular}\n",
            "text/plain": [
              "     [,1] [,2]\n",
              "[1,]  2   30  \n",
              "[2,] 12   56  "
            ]
          },
          "metadata": {}
        },
        {
          "output_type": "display_data",
          "data": {
            "text/html": [
              "<table class=\"dataframe\">\n",
              "<caption>A matrix: 2 × 2 of type dbl</caption>\n",
              "<tbody>\n",
              "\t<tr><td>22</td><td>46</td></tr>\n",
              "\t<tr><td>34</td><td>74</td></tr>\n",
              "</tbody>\n",
              "</table>\n"
            ],
            "text/markdown": "\nA matrix: 2 × 2 of type dbl\n\n| 22 | 46 |\n| 34 | 74 |\n\n",
            "text/latex": "A matrix: 2 × 2 of type dbl\n\\begin{tabular}{ll}\n\t 22 & 46\\\\\n\t 34 & 74\\\\\n\\end{tabular}\n",
            "text/plain": [
              "     [,1] [,2]\n",
              "[1,] 22   46  \n",
              "[2,] 34   74  "
            ]
          },
          "metadata": {}
        }
      ]
    },
    {
      "cell_type": "markdown",
      "source": [
        "## If .... else ..."
      ],
      "metadata": {
        "id": "DPOQgtm6E0vJ"
      }
    },
    {
      "cell_type": "code",
      "source": [
        "a <- 33\n",
        "b <- 33\n",
        "\n",
        "if (b > a) {\n",
        "  print(\"b is greater than a\")\n",
        "} else if (a == b) {\n",
        "  print(\"a and b are equal\")\n",
        "} else {\n",
        "  print(\"a is greater than b\")\n",
        "}"
      ],
      "metadata": {
        "colab": {
          "base_uri": "https://localhost:8080/"
        },
        "id": "_iSOiyn0EYXZ",
        "outputId": "25e75f8d-b833-4bd9-bfb4-dfde4ca8a93a"
      },
      "execution_count": null,
      "outputs": [
        {
          "output_type": "stream",
          "name": "stdout",
          "text": [
            "[1] \"a and b are equal\"\n"
          ]
        }
      ]
    },
    {
      "cell_type": "markdown",
      "source": [
        "## loop"
      ],
      "metadata": {
        "id": "UMJFH70HFCz7"
      }
    },
    {
      "cell_type": "code",
      "source": [
        "for (x in 1:10) {\n",
        "  print(x)\n",
        "}"
      ],
      "metadata": {
        "colab": {
          "base_uri": "https://localhost:8080/"
        },
        "id": "hDpI3cZcFDsI",
        "outputId": "31415920-2b7c-4e64-d4f7-7269e2f1afa1"
      },
      "execution_count": null,
      "outputs": [
        {
          "output_type": "stream",
          "name": "stdout",
          "text": [
            "[1] 1\n",
            "[1] 2\n",
            "[1] 3\n",
            "[1] 4\n",
            "[1] 5\n",
            "[1] 6\n",
            "[1] 7\n",
            "[1] 8\n",
            "[1] 9\n",
            "[1] 10\n"
          ]
        }
      ]
    }
  ],
  "metadata": {
    "colab": {
      "name": "Trilha 5.ipynb",
      "provenance": [],
      "toc_visible": true,
      "include_colab_link": true
    },
    "kernelspec": {
      "display_name": "R",
      "language": "R",
      "name": "ir"
    },
    "language_info": {
      "codemirror_mode": "r",
      "file_extension": ".r",
      "mimetype": "text/x-r-source",
      "name": "R",
      "pygments_lexer": "r",
      "version": "4.1.0"
    }
  },
  "nbformat": 4,
  "nbformat_minor": 0
}