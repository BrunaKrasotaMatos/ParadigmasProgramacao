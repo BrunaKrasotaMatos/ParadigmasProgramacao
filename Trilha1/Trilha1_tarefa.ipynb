{
  "nbformat": 4,
  "nbformat_minor": 0,
  "metadata": {
    "colab": {
      "name": "Trilha1_tarefa.ipynb",
      "provenance": [],
      "authorship_tag": "ABX9TyN0S47iEdeqWrRsBm9MGAlB",
      "include_colab_link": true
    },
    "kernelspec": {
      "name": "python3",
      "display_name": "Python 3"
    },
    "language_info": {
      "name": "python"
    }
  },
  "cells": [
    {
      "cell_type": "markdown",
      "metadata": {
        "id": "view-in-github",
        "colab_type": "text"
      },
      "source": [
        "<a href=\"https://colab.research.google.com/github/BrunaKrasotaMatos/ParadigmasProgramacao/blob/main/Trilha1_tarefa.ipynb\" target=\"_parent\"><img src=\"https://colab.research.google.com/assets/colab-badge.svg\" alt=\"Open In Colab\"/></a>"
      ]
    },
    {
      "cell_type": "code",
      "execution_count": null,
      "metadata": {
        "colab": {
          "base_uri": "https://localhost:8080/"
        },
        "id": "YD-5xY4urplE",
        "outputId": "e5ec0b2e-b874-48ca-a5df-7069472669b5"
      },
      "outputs": [
        {
          "output_type": "stream",
          "name": "stdout",
          "text": [
            "2\n",
            "4\n",
            "6\n",
            "8\n",
            "10\n",
            "12\n",
            "14\n",
            "16\n",
            "18\n",
            "20\n",
            "[2, 4, 6, 8, 10, 12, 14, 16, 18, 20]\n",
            "[2, 4, 6, 8, 10, 12, 14, 16, 18, 20]\n",
            "[2, 4, 6, 8, 10, 12, 14, 16, 18, 20]\n",
            "[2, 4, 6, 8, 10, 12, 14, 16, 18, 20]\n",
            "[2, 4, 6, 8, 10, 12, 14, 16, 18, 20]\n",
            "[2, 4, 6, 8, 10, 12, 14, 16, 18, 20]\n",
            "[2, 4, 6, 8, 10, 12, 14, 16, 18, 20]\n",
            "[2, 4, 6, 8, 10, 12, 14, 16, 18, 20]\n",
            "[2, 4, 6, 8, 10, 12, 14, 16, 18, 20]\n",
            "[2, 4, 6, 8, 10, 12, 14, 16, 18, 20]\n"
          ]
        }
      ],
      "source": [
        "import pandas as pd\n",
        "import numpy as np\n",
        "import matplotlib.pyplot as plt\n",
        "import matplotlib as mpl\n",
        "\n",
        "\n",
        "lis = [2,4,6,8,10,12,14,16,18,20]\n",
        "\n",
        "#Questao 2\n",
        "#(c)\n",
        "sum(lis)\n",
        "for i in range(len(lis)): print(lis[i])\n",
        "\n",
        "#(d)\n",
        "for i in range(len(lis)): print(lis)"
      ]
    },
    {
      "cell_type": "code",
      "source": [
        "\n",
        "#Questao3\n",
        "lista = ['Beatriz', 'Henrique', 'Adriana', 'Daniel', 'Adriana', 'Thais']\n",
        "\n",
        "print(lista[3:5])\n",
        "print(lista.index('Adriana',3))\n",
        "\n"
      ],
      "metadata": {
        "colab": {
          "base_uri": "https://localhost:8080/"
        },
        "id": "HVEiwhK4umOA",
        "outputId": "61474280-23d6-46f5-9983-a82aea5f7798"
      },
      "execution_count": null,
      "outputs": [
        {
          "output_type": "stream",
          "name": "stdout",
          "text": [
            "['Daniel', 'Adriana']\n",
            "4\n"
          ]
        }
      ]
    },
    {
      "cell_type": "code",
      "source": [
        "#Questao4\n",
        "\n",
        "for elem in range(1,9):\n",
        "  print(elem)\n",
        "\n",
        "for elem in [1,2,3,4,5]:\n",
        "  print(elem)\n",
        "\n",
        "for elem in ['a','b','c']:\n",
        "  print(elem)"
      ],
      "metadata": {
        "colab": {
          "base_uri": "https://localhost:8080/"
        },
        "id": "MzfUHURgvkKx",
        "outputId": "e352e00e-462e-4a76-ebbc-a24f713dee8b"
      },
      "execution_count": null,
      "outputs": [
        {
          "output_type": "stream",
          "name": "stdout",
          "text": [
            "1\n",
            "2\n",
            "3\n",
            "4\n",
            "5\n",
            "6\n",
            "7\n",
            "8\n",
            "1\n",
            "2\n",
            "3\n",
            "4\n",
            "5\n",
            "a\n",
            "b\n",
            "c\n"
          ]
        }
      ]
    },
    {
      "cell_type": "code",
      "source": [
        "#Questao5\n",
        "\n",
        "lista = ['Beatriz', 'Henrique', 'Adriana', 'Daniel', 'Adriana', 'Thais']\n",
        "\n",
        "print(lista.count('Adriana'))\n",
        "lista.append('Henrique')\n",
        "print(lista)"
      ],
      "metadata": {
        "colab": {
          "base_uri": "https://localhost:8080/"
        },
        "id": "zZuuSJIav7Tr",
        "outputId": "ce0d64d6-1b43-4f51-a5b2-5b5ab58d7673"
      },
      "execution_count": null,
      "outputs": [
        {
          "output_type": "stream",
          "name": "stdout",
          "text": [
            "2\n",
            "['Beatriz', 'Henrique', 'Adriana', 'Daniel', 'Adriana', 'Thais', 'Henrique']\n"
          ]
        }
      ]
    }
  ]
}