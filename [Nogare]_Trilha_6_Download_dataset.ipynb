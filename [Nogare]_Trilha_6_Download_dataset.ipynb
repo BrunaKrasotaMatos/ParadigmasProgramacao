{
  "cells": [
    {
      "cell_type": "markdown",
      "metadata": {
        "id": "view-in-github",
        "colab_type": "text"
      },
      "source": [
        "<a href=\"https://colab.research.google.com/github/BrunaKrasotaMatos/ParadigmasProgramacao/blob/main/%5BNogare%5D_Trilha_6_Download_dataset.ipynb\" target=\"_parent\"><img src=\"https://colab.research.google.com/assets/colab-badge.svg\" alt=\"Open In Colab\"/></a>"
      ]
    },
    {
      "cell_type": "markdown",
      "metadata": {
        "id": "Bg73fvUW9O6x"
      },
      "source": [
        "# Download do dataset"
      ]
    },
    {
      "cell_type": "markdown",
      "metadata": {
        "id": "pC_iSiMf9O7B"
      },
      "source": [
        "Este *jupyter notebook* é extra à trilha 6 do componente curricular, possibilitando estudantes reproduzirem a coleta inicial do *dataset* utilizado como fonte de estudos desta trilha.\n",
        "\n",
        "O processo é relativamente simples, seguindo os passos:\n",
        "\n",
        "**1)** Instalação e carregamento do pacote *tidyverse*\n",
        "\n",
        "**2)** Acesso à URL onde há o conjunto de dados;\n",
        "\n",
        "**3)** Download do arquivo de 1.6Gb (este tempo pode demorar de acordo com sua conexão de internet)\n",
        "\n",
        "**4)** Descompactação do arquivo, aumentando para 12Gb o tamanho dos arquivos;\n",
        "\n",
        "**5)** Carregamento de um arquivo que foi extraído, com 7 milhões de observações, em um dataframe;\n",
        "\n",
        "**6)** Seleção aleatória de 100.000 observações desta lista de 7 milhões;\n",
        "\n",
        "**7)** Criação de um arquivo CSV com as 100.000 observações, totalizando 10Mb."
      ]
    },
    {
      "cell_type": "markdown",
      "metadata": {
        "id": "rpVLoB6e9O7D"
      },
      "source": [
        "O código abaixo permite fazer a instalação e carregamento do pacote *tidyverse*."
      ]
    },
    {
      "cell_type": "code",
      "execution_count": null,
      "metadata": {
        "colab": {
          "base_uri": "https://localhost:8080/"
        },
        "id": "4YLHxWZb9O7E",
        "outputId": "189bedd7-d194-4bf6-ee95-ee29d6bdb994"
      },
      "outputs": [
        {
          "output_type": "stream",
          "name": "stderr",
          "text": [
            "Installing package into ‘/usr/local/lib/R/site-library’\n",
            "(as ‘lib’ is unspecified)\n",
            "\n"
          ]
        }
      ],
      "source": [
        "install.packages('tidyverse')\n",
        "library('tidyverse')"
      ]
    },
    {
      "cell_type": "markdown",
      "metadata": {
        "id": "OA6kKw9L9O7P"
      },
      "source": [
        "Abaixo é escrito na variável URL o caminho para fazer download do *dataset* completo. Em seguida, é criada uma nova variável com o nome que o arquivo terá no seu computador local."
      ]
    },
    {
      "cell_type": "code",
      "execution_count": null,
      "metadata": {
        "id": "FhxblhNs9O7Q"
      },
      "outputs": [],
      "source": [
        "URL <- \"http://ww2.amstat.org/sections/graphics/datasets/DataExpo2009.zip\"\n",
        "nomeArquivo <- \"arquivo_baixado.zip\""
      ]
    },
    {
      "cell_type": "markdown",
      "metadata": {
        "id": "MBJkfqXk9O7S"
      },
      "source": [
        "A função *download.file* irá trabalhar com dois parâmetros, um dizendo qual é o local onde está o arquivo a ser baixado da internet para seu computador local, e o segundo é o nome que este arquivo terá."
      ]
    },
    {
      "cell_type": "code",
      "execution_count": null,
      "metadata": {
        "colab": {
          "base_uri": "https://localhost:8080/",
          "height": 200
        },
        "id": "UEUmRess9O7T",
        "outputId": "b0b3e0b9-fd21-4438-a49b-d3bcfbf81b6c"
      },
      "outputs": [
        {
          "output_type": "stream",
          "name": "stderr",
          "text": [
            "Warning message in download.file(URL, nomeArquivo):\n",
            "“downloaded length 476872095 != reported length 1658323747”\n",
            "Warning message in download.file(URL, nomeArquivo):\n",
            "“URL 'https://ww2.amstat.org/sections/graphics/datasets/DataExpo2009.zip': Timeout of 60 seconds was reached”\n"
          ]
        },
        {
          "output_type": "error",
          "ename": "ERROR",
          "evalue": "ignored",
          "traceback": [
            "Error in download.file(URL, nomeArquivo): download from 'http://ww2.amstat.org/sections/graphics/datasets/DataExpo2009.zip' failed\nTraceback:\n",
            "1. download.file(URL, nomeArquivo)"
          ]
        }
      ],
      "source": [
        "download.file(URL, nomeArquivo)"
      ]
    },
    {
      "cell_type": "markdown",
      "metadata": {
        "id": "Frs0jm9h9O7V"
      },
      "source": [
        "Após o download do arquivo, é necessário fazer a extração dos arquivos internos. Este arquivo tem a característica de um Zip, que comprime em um único arquivo toda uma estrutura de arquivos. Neste caso, é utilizada a função *Unzip* para extrair todos os arquivos de dentro do Zip."
      ]
    },
    {
      "cell_type": "code",
      "execution_count": null,
      "metadata": {
        "id": "Ws-Jdv539O7X",
        "colab": {
          "base_uri": "https://localhost:8080/"
        },
        "outputId": "62d3e4e6-2d85-4b01-f3ac-be62807ddc17"
      },
      "outputs": [
        {
          "output_type": "stream",
          "name": "stderr",
          "text": [
            "Warning message in unzip(nomeArquivo):\n",
            "“error 1 in extracting from zip file”\n"
          ]
        }
      ],
      "source": [
        "unzip(nomeArquivo)"
      ]
    },
    {
      "cell_type": "markdown",
      "metadata": {
        "id": "KSPog8zn9O7Y"
      },
      "source": [
        "Depois dos arquivos serem descompactados, faremos o carregamento dos dados em um *Data Frame*. Utilizando a função *read_csv* do pacote *tidyverse* é possivel ler um dos arquivos que baixou e então atribuí-lo à uma variável."
      ]
    },
    {
      "cell_type": "code",
      "execution_count": null,
      "metadata": {
        "id": "13lCu8HQ9O7Z"
      },
      "outputs": [],
      "source": [
        "# voos2008 <- read_csv(\"DataExpo2009\\\\2008.csv.bz2\")\n",
        "voos2008 <- read_csv(\"https://raw.githubusercontent.com/Rogerio-mack/Ling-de-Prog-para-Ciencia-de-Dados/master/voos2008.csv\")"
      ]
    },
    {
      "cell_type": "markdown",
      "metadata": {
        "id": "xn0rjtqg9O7Z"
      },
      "source": [
        "O conjunto de dados é grande, possui 7 milhões de linhas.\n",
        "\n",
        "Para facilitar o trabalho, vamos executar a randomização destas 7 milhões de observações para coletar 100.000 registros aleatórios. \n",
        "É recomendado que seja configurado o *seed* de 42. Isso é importante para permitir a reproduzibilidade do experimento. A semente de aleatoriedade permite que, independente de qual ambiente seja executado o experimento, todos estudantes terão os mesmos resultados.\n",
        "\n",
        "Para validar, repare que ao manter a semente como 42, é esperado que os 6 primeiros numeros de vôo sejam: 'N913SW' | 'N212WN' | 'N69602'| 'N550JB' | 'N284YV' | 'N305SW'"
      ]
    },
    {
      "cell_type": "code",
      "source": [
        "head(voos2008)"
      ],
      "metadata": {
        "colab": {
          "base_uri": "https://localhost:8080/",
          "height": 306
        },
        "id": "wpCcmQ6SSV3R",
        "outputId": "5e5e33f0-7264-47dc-e041-1e44915b5a04"
      },
      "execution_count": null,
      "outputs": [
        {
          "output_type": "display_data",
          "data": {
            "text/html": [
              "<table class=\"dataframe\">\n",
              "<caption>A tibble: 6 × 29</caption>\n",
              "<thead>\n",
              "\t<tr><th scope=col>Year</th><th scope=col>Month</th><th scope=col>DayofMonth</th><th scope=col>DayOfWeek</th><th scope=col>DepTime</th><th scope=col>CRSDepTime</th><th scope=col>ArrTime</th><th scope=col>CRSArrTime</th><th scope=col>UniqueCarrier</th><th scope=col>FlightNum</th><th scope=col>⋯</th><th scope=col>TaxiIn</th><th scope=col>TaxiOut</th><th scope=col>Cancelled</th><th scope=col>CancellationCode</th><th scope=col>Diverted</th><th scope=col>CarrierDelay</th><th scope=col>WeatherDelay</th><th scope=col>NASDelay</th><th scope=col>SecurityDelay</th><th scope=col>LateAircraftDelay</th></tr>\n",
              "\t<tr><th scope=col>&lt;dbl&gt;</th><th scope=col>&lt;dbl&gt;</th><th scope=col>&lt;dbl&gt;</th><th scope=col>&lt;dbl&gt;</th><th scope=col>&lt;dbl&gt;</th><th scope=col>&lt;dbl&gt;</th><th scope=col>&lt;dbl&gt;</th><th scope=col>&lt;dbl&gt;</th><th scope=col>&lt;chr&gt;</th><th scope=col>&lt;dbl&gt;</th><th scope=col>⋯</th><th scope=col>&lt;dbl&gt;</th><th scope=col>&lt;dbl&gt;</th><th scope=col>&lt;dbl&gt;</th><th scope=col>&lt;chr&gt;</th><th scope=col>&lt;dbl&gt;</th><th scope=col>&lt;dbl&gt;</th><th scope=col>&lt;dbl&gt;</th><th scope=col>&lt;dbl&gt;</th><th scope=col>&lt;dbl&gt;</th><th scope=col>&lt;dbl&gt;</th></tr>\n",
              "</thead>\n",
              "<tbody>\n",
              "\t<tr><td>2008</td><td>9</td><td>21</td><td>7</td><td>1909</td><td>1900</td><td>2040</td><td>2036</td><td>DL</td><td> 156</td><td>⋯</td><td>10</td><td>17</td><td>0</td><td>NA</td><td>0</td><td>NA</td><td>NA</td><td>NA</td><td>NA</td><td>NA</td></tr>\n",
              "\t<tr><td>2008</td><td>9</td><td>18</td><td>4</td><td>1440</td><td>1445</td><td>1630</td><td>1636</td><td>US</td><td>1199</td><td>⋯</td><td> 5</td><td>24</td><td>0</td><td>NA</td><td>0</td><td>NA</td><td>NA</td><td>NA</td><td>NA</td><td>NA</td></tr>\n",
              "\t<tr><td>2008</td><td>8</td><td>11</td><td>1</td><td>2033</td><td>2035</td><td>2335</td><td>2340</td><td>AA</td><td> 864</td><td>⋯</td><td> 7</td><td>12</td><td>0</td><td>NA</td><td>0</td><td>NA</td><td>NA</td><td>NA</td><td>NA</td><td>NA</td></tr>\n",
              "\t<tr><td>2008</td><td>5</td><td> 3</td><td>6</td><td>1936</td><td>1930</td><td>2012</td><td>2007</td><td>HA</td><td> 556</td><td>⋯</td><td> 5</td><td>10</td><td>0</td><td>NA</td><td>0</td><td>NA</td><td>NA</td><td>NA</td><td>NA</td><td>NA</td></tr>\n",
              "\t<tr><td>2008</td><td>5</td><td>13</td><td>2</td><td>2332</td><td>2340</td><td> 654</td><td> 719</td><td>US</td><td>1404</td><td>⋯</td><td> 4</td><td>14</td><td>0</td><td>NA</td><td>0</td><td>NA</td><td>NA</td><td>NA</td><td>NA</td><td>NA</td></tr>\n",
              "\t<tr><td>2008</td><td>1</td><td>13</td><td>7</td><td> 907</td><td> 915</td><td>1008</td><td>1020</td><td>MQ</td><td>3661</td><td>⋯</td><td> 2</td><td>13</td><td>0</td><td>NA</td><td>0</td><td>NA</td><td>NA</td><td>NA</td><td>NA</td><td>NA</td></tr>\n",
              "</tbody>\n",
              "</table>\n"
            ],
            "text/markdown": "\nA tibble: 6 × 29\n\n| Year &lt;dbl&gt; | Month &lt;dbl&gt; | DayofMonth &lt;dbl&gt; | DayOfWeek &lt;dbl&gt; | DepTime &lt;dbl&gt; | CRSDepTime &lt;dbl&gt; | ArrTime &lt;dbl&gt; | CRSArrTime &lt;dbl&gt; | UniqueCarrier &lt;chr&gt; | FlightNum &lt;dbl&gt; | ⋯ ⋯ | TaxiIn &lt;dbl&gt; | TaxiOut &lt;dbl&gt; | Cancelled &lt;dbl&gt; | CancellationCode &lt;chr&gt; | Diverted &lt;dbl&gt; | CarrierDelay &lt;dbl&gt; | WeatherDelay &lt;dbl&gt; | NASDelay &lt;dbl&gt; | SecurityDelay &lt;dbl&gt; | LateAircraftDelay &lt;dbl&gt; |\n|---|---|---|---|---|---|---|---|---|---|---|---|---|---|---|---|---|---|---|---|---|\n| 2008 | 9 | 21 | 7 | 1909 | 1900 | 2040 | 2036 | DL |  156 | ⋯ | 10 | 17 | 0 | NA | 0 | NA | NA | NA | NA | NA |\n| 2008 | 9 | 18 | 4 | 1440 | 1445 | 1630 | 1636 | US | 1199 | ⋯ |  5 | 24 | 0 | NA | 0 | NA | NA | NA | NA | NA |\n| 2008 | 8 | 11 | 1 | 2033 | 2035 | 2335 | 2340 | AA |  864 | ⋯ |  7 | 12 | 0 | NA | 0 | NA | NA | NA | NA | NA |\n| 2008 | 5 |  3 | 6 | 1936 | 1930 | 2012 | 2007 | HA |  556 | ⋯ |  5 | 10 | 0 | NA | 0 | NA | NA | NA | NA | NA |\n| 2008 | 5 | 13 | 2 | 2332 | 2340 |  654 |  719 | US | 1404 | ⋯ |  4 | 14 | 0 | NA | 0 | NA | NA | NA | NA | NA |\n| 2008 | 1 | 13 | 7 |  907 |  915 | 1008 | 1020 | MQ | 3661 | ⋯ |  2 | 13 | 0 | NA | 0 | NA | NA | NA | NA | NA |\n\n",
            "text/latex": "A tibble: 6 × 29\n\\begin{tabular}{lllllllllllllllllllll}\n Year & Month & DayofMonth & DayOfWeek & DepTime & CRSDepTime & ArrTime & CRSArrTime & UniqueCarrier & FlightNum & ⋯ & TaxiIn & TaxiOut & Cancelled & CancellationCode & Diverted & CarrierDelay & WeatherDelay & NASDelay & SecurityDelay & LateAircraftDelay\\\\\n <dbl> & <dbl> & <dbl> & <dbl> & <dbl> & <dbl> & <dbl> & <dbl> & <chr> & <dbl> & ⋯ & <dbl> & <dbl> & <dbl> & <chr> & <dbl> & <dbl> & <dbl> & <dbl> & <dbl> & <dbl>\\\\\n\\hline\n\t 2008 & 9 & 21 & 7 & 1909 & 1900 & 2040 & 2036 & DL &  156 & ⋯ & 10 & 17 & 0 & NA & 0 & NA & NA & NA & NA & NA\\\\\n\t 2008 & 9 & 18 & 4 & 1440 & 1445 & 1630 & 1636 & US & 1199 & ⋯ &  5 & 24 & 0 & NA & 0 & NA & NA & NA & NA & NA\\\\\n\t 2008 & 8 & 11 & 1 & 2033 & 2035 & 2335 & 2340 & AA &  864 & ⋯ &  7 & 12 & 0 & NA & 0 & NA & NA & NA & NA & NA\\\\\n\t 2008 & 5 &  3 & 6 & 1936 & 1930 & 2012 & 2007 & HA &  556 & ⋯ &  5 & 10 & 0 & NA & 0 & NA & NA & NA & NA & NA\\\\\n\t 2008 & 5 & 13 & 2 & 2332 & 2340 &  654 &  719 & US & 1404 & ⋯ &  4 & 14 & 0 & NA & 0 & NA & NA & NA & NA & NA\\\\\n\t 2008 & 1 & 13 & 7 &  907 &  915 & 1008 & 1020 & MQ & 3661 & ⋯ &  2 & 13 & 0 & NA & 0 & NA & NA & NA & NA & NA\\\\\n\\end{tabular}\n",
            "text/plain": [
              "  Year Month DayofMonth DayOfWeek DepTime CRSDepTime ArrTime CRSArrTime\n",
              "1 2008 9     21         7         1909    1900       2040    2036      \n",
              "2 2008 9     18         4         1440    1445       1630    1636      \n",
              "3 2008 8     11         1         2033    2035       2335    2340      \n",
              "4 2008 5      3         6         1936    1930       2012    2007      \n",
              "5 2008 5     13         2         2332    2340        654     719      \n",
              "6 2008 1     13         7          907     915       1008    1020      \n",
              "  UniqueCarrier FlightNum ⋯ TaxiIn TaxiOut Cancelled CancellationCode Diverted\n",
              "1 DL             156      ⋯ 10     17      0         NA               0       \n",
              "2 US            1199      ⋯  5     24      0         NA               0       \n",
              "3 AA             864      ⋯  7     12      0         NA               0       \n",
              "4 HA             556      ⋯  5     10      0         NA               0       \n",
              "5 US            1404      ⋯  4     14      0         NA               0       \n",
              "6 MQ            3661      ⋯  2     13      0         NA               0       \n",
              "  CarrierDelay WeatherDelay NASDelay SecurityDelay LateAircraftDelay\n",
              "1 NA           NA           NA       NA            NA               \n",
              "2 NA           NA           NA       NA            NA               \n",
              "3 NA           NA           NA       NA            NA               \n",
              "4 NA           NA           NA       NA            NA               \n",
              "5 NA           NA           NA       NA            NA               \n",
              "6 NA           NA           NA       NA            NA               "
            ]
          },
          "metadata": {}
        }
      ]
    },
    {
      "cell_type": "code",
      "source": [
        "set.seed(1)\n",
        "sample(5)"
      ],
      "metadata": {
        "colab": {
          "base_uri": "https://localhost:8080/",
          "height": 34
        },
        "id": "V1Sta_AkVLHQ",
        "outputId": "491c3186-edd0-4bd7-cc59-8ec4d505c780"
      },
      "execution_count": null,
      "outputs": [
        {
          "output_type": "display_data",
          "data": {
            "text/html": [
              "<style>\n",
              ".list-inline {list-style: none; margin:0; padding: 0}\n",
              ".list-inline>li {display: inline-block}\n",
              ".list-inline>li:not(:last-child)::after {content: \"\\00b7\"; padding: 0 .5ex}\n",
              "</style>\n",
              "<ol class=list-inline><li>1</li><li>4</li><li>3</li><li>5</li><li>2</li></ol>\n"
            ],
            "text/markdown": "1. 1\n2. 4\n3. 3\n4. 5\n5. 2\n\n\n",
            "text/latex": "\\begin{enumerate*}\n\\item 1\n\\item 4\n\\item 3\n\\item 5\n\\item 2\n\\end{enumerate*}\n",
            "text/plain": [
              "[1] 1 4 3 5 2"
            ]
          },
          "metadata": {}
        }
      ]
    },
    {
      "cell_type": "code",
      "source": [
        "set.seed(42)\n",
        "sample(5)"
      ],
      "metadata": {
        "colab": {
          "base_uri": "https://localhost:8080/",
          "height": 34
        },
        "id": "9-xHrTITVQwZ",
        "outputId": "ebad239c-646f-41d6-fb4d-d1de064ef3ca"
      },
      "execution_count": null,
      "outputs": [
        {
          "output_type": "display_data",
          "data": {
            "text/html": [
              "<style>\n",
              ".list-inline {list-style: none; margin:0; padding: 0}\n",
              ".list-inline>li {display: inline-block}\n",
              ".list-inline>li:not(:last-child)::after {content: \"\\00b7\"; padding: 0 .5ex}\n",
              "</style>\n",
              "<ol class=list-inline><li>1</li><li>5</li><li>4</li><li>3</li><li>2</li></ol>\n"
            ],
            "text/markdown": "1. 1\n2. 5\n3. 4\n4. 3\n5. 2\n\n\n",
            "text/latex": "\\begin{enumerate*}\n\\item 1\n\\item 5\n\\item 4\n\\item 3\n\\item 2\n\\end{enumerate*}\n",
            "text/plain": [
              "[1] 1 5 4 3 2"
            ]
          },
          "metadata": {}
        }
      ]
    },
    {
      "cell_type": "code",
      "execution_count": null,
      "metadata": {
        "id": "8hFSoEs19O7a",
        "colab": {
          "base_uri": "https://localhost:8080/",
          "height": 1000
        },
        "outputId": "d5fa645c-75f3-4a44-9363-9d0e7b4092e6"
      },
      "outputs": [
        {
          "output_type": "stream",
          "name": "stdout",
          "text": [
            "spec_tbl_df [100,000 × 29] (S3: spec_tbl_df/tbl_df/tbl/data.frame)\n",
            " $ Year             : num [1:100000] 2008 2008 2008 2008 2008 ...\n",
            " $ Month            : num [1:100000] 4 3 3 8 2 11 10 4 9 9 ...\n",
            " $ DayofMonth       : num [1:100000] 10 28 24 19 8 8 8 5 2 13 ...\n",
            " $ DayOfWeek        : num [1:100000] 4 5 1 2 5 6 3 6 2 6 ...\n",
            " $ DepTime          : num [1:100000] 617 1934 844 2152 1911 ...\n",
            " $ CRSDepTime       : num [1:100000] 600 1935 840 2155 1859 ...\n",
            " $ ArrTime          : num [1:100000] 844 2132 1045 2319 2041 ...\n",
            " $ CRSArrTime       : num [1:100000] 755 2138 1035 2325 2041 ...\n",
            " $ UniqueCarrier    : chr [1:100000] \"9E\" \"DL\" \"MQ\" \"WN\" ...\n",
            " $ FlightNum        : num [1:100000] 3753 940 3459 3485 4762 ...\n",
            " $ TailNum          : chr [1:100000] \"88369E\" \"N945DL\" \"N678AE\" \"N767SW\" ...\n",
            " $ ActualElapsedTime: num [1:100000] 147 118 121 87 90 171 93 182 142 140 ...\n",
            " $ CRSElapsedTime   : num [1:100000] 115 123 115 90 102 185 105 195 155 140 ...\n",
            " $ AirTime          : num [1:100000] 102 97 99 73 68 151 73 164 129 120 ...\n",
            " $ ArrDelay         : num [1:100000] 49 -6 10 -6 0 -15 -13 -15 -15 -6 ...\n",
            " $ DepDelay         : num [1:100000] 17 -1 4 -3 12 -1 -1 -2 -2 -6 ...\n",
            " $ Origin           : chr [1:100000] \"FNT\" \"CVG\" \"DFW\" \"SAN\" ...\n",
            " $ Dest             : chr [1:100000] \"LGA\" \"LGA\" \"VPS\" \"SMF\" ...\n",
            " $ Distance         : num [1:100000] 530 585 626 480 526 ...\n",
            " $ TaxiIn           : num [1:100000] 15 6 6 7 7 9 2 5 4 6 ...\n",
            " $ TaxiOut          : num [1:100000] 30 15 16 7 15 11 18 13 9 14 ...\n",
            " $ Cancelled        : num [1:100000] 0 0 0 0 0 0 0 0 0 0 ...\n",
            " $ CancellationCode : chr [1:100000] NA NA NA NA ...\n",
            " $ Diverted         : num [1:100000] 0 0 0 0 0 0 0 0 0 0 ...\n",
            " $ CarrierDelay     : num [1:100000] 17 NA NA NA NA NA NA NA NA NA ...\n",
            " $ WeatherDelay     : num [1:100000] 0 NA NA NA NA NA NA NA NA NA ...\n",
            " $ NASDelay         : num [1:100000] 32 NA NA NA NA NA NA NA NA NA ...\n",
            " $ SecurityDelay    : num [1:100000] 0 NA NA NA NA NA NA NA NA NA ...\n",
            " $ LateAircraftDelay: num [1:100000] 0 NA NA NA NA NA NA NA NA NA ...\n",
            " - attr(*, \"spec\")=\n",
            "  .. cols(\n",
            "  ..   Year = \u001b[32mcol_double()\u001b[39m,\n",
            "  ..   Month = \u001b[32mcol_double()\u001b[39m,\n",
            "  ..   DayofMonth = \u001b[32mcol_double()\u001b[39m,\n",
            "  ..   DayOfWeek = \u001b[32mcol_double()\u001b[39m,\n",
            "  ..   DepTime = \u001b[32mcol_double()\u001b[39m,\n",
            "  ..   CRSDepTime = \u001b[32mcol_double()\u001b[39m,\n",
            "  ..   ArrTime = \u001b[32mcol_double()\u001b[39m,\n",
            "  ..   CRSArrTime = \u001b[32mcol_double()\u001b[39m,\n",
            "  ..   UniqueCarrier = \u001b[31mcol_character()\u001b[39m,\n",
            "  ..   FlightNum = \u001b[32mcol_double()\u001b[39m,\n",
            "  ..   TailNum = \u001b[31mcol_character()\u001b[39m,\n",
            "  ..   ActualElapsedTime = \u001b[32mcol_double()\u001b[39m,\n",
            "  ..   CRSElapsedTime = \u001b[32mcol_double()\u001b[39m,\n",
            "  ..   AirTime = \u001b[32mcol_double()\u001b[39m,\n",
            "  ..   ArrDelay = \u001b[32mcol_double()\u001b[39m,\n",
            "  ..   DepDelay = \u001b[32mcol_double()\u001b[39m,\n",
            "  ..   Origin = \u001b[31mcol_character()\u001b[39m,\n",
            "  ..   Dest = \u001b[31mcol_character()\u001b[39m,\n",
            "  ..   Distance = \u001b[32mcol_double()\u001b[39m,\n",
            "  ..   TaxiIn = \u001b[32mcol_double()\u001b[39m,\n",
            "  ..   TaxiOut = \u001b[32mcol_double()\u001b[39m,\n",
            "  ..   Cancelled = \u001b[32mcol_double()\u001b[39m,\n",
            "  ..   CancellationCode = \u001b[31mcol_character()\u001b[39m,\n",
            "  ..   Diverted = \u001b[32mcol_double()\u001b[39m,\n",
            "  ..   CarrierDelay = \u001b[32mcol_double()\u001b[39m,\n",
            "  ..   WeatherDelay = \u001b[32mcol_double()\u001b[39m,\n",
            "  ..   NASDelay = \u001b[32mcol_double()\u001b[39m,\n",
            "  ..   SecurityDelay = \u001b[32mcol_double()\u001b[39m,\n",
            "  ..   LateAircraftDelay = \u001b[32mcol_double()\u001b[39m\n",
            "  .. )\n",
            " - attr(*, \"problems\")=<externalptr> \n"
          ]
        },
        {
          "output_type": "display_data",
          "data": {
            "text/html": [
              "<style>\n",
              ".list-inline {list-style: none; margin:0; padding: 0}\n",
              ".list-inline>li {display: inline-block}\n",
              ".list-inline>li:not(:last-child)::after {content: \"\\00b7\"; padding: 0 .5ex}\n",
              "</style>\n",
              "<ol class=list-inline><li>'88369E'</li><li>'N945DL'</li><li>'N678AE'</li><li>'N767SW'</li><li>'N682BR'</li><li>'N5EHAA'</li></ol>\n"
            ],
            "text/markdown": "1. '88369E'\n2. 'N945DL'\n3. 'N678AE'\n4. 'N767SW'\n5. 'N682BR'\n6. 'N5EHAA'\n\n\n",
            "text/latex": "\\begin{enumerate*}\n\\item '88369E'\n\\item 'N945DL'\n\\item 'N678AE'\n\\item 'N767SW'\n\\item 'N682BR'\n\\item 'N5EHAA'\n\\end{enumerate*}\n",
            "text/plain": [
              "[1] \"88369E\" \"N945DL\" \"N678AE\" \"N767SW\" \"N682BR\" \"N5EHAA\""
            ]
          },
          "metadata": {}
        }
      ],
      "source": [
        "set.seed(42)\n",
        "\n",
        "sampleDados <- sample_n(voos2008, 100000)\n",
        "str(sampleDados)\n",
        "\n",
        "head(sampleDados$TailNum)"
      ]
    },
    {
      "cell_type": "markdown",
      "metadata": {
        "id": "1pV0Og0Y9O7b"
      },
      "source": [
        "Por fim, este conjunto de dados de exemplo com 100.000 observações será salvo em um arquivo chamado *voos2008.csv*, e isso é feito com a função *write_csv* do pacote *tidyverse*. "
      ]
    },
    {
      "cell_type": "code",
      "execution_count": null,
      "metadata": {
        "id": "lDM47DT29O7e"
      },
      "outputs": [],
      "source": [
        "write_csv(sampleDados, 'voos2008.csv')"
      ]
    },
    {
      "cell_type": "markdown",
      "metadata": {
        "id": "PIeOVsMg9O7f"
      },
      "source": [
        "Repare na sua pasta de trabalho que existe um arquivo chamado **voos2008.csv** com aproximadamente 10Mb de tamanho. Este arquivo também está disponível para download dentro dos arquivos disponíveis no componente curricular."
      ]
    },
    {
      "cell_type": "markdown",
      "source": [
        "# Desafios"
      ],
      "metadata": {
        "id": "vnO2vYh3EklM"
      }
    },
    {
      "cell_type": "markdown",
      "source": [
        "## 5.1. Minimizar atrasos\n"
      ],
      "metadata": {
        "id": "SVDegclgGHuB"
      }
    },
    {
      "cell_type": "code",
      "source": [
        "novoDataset <- voos2008 %>%\n",
        "select(Year,Month,DayofMonth,DepTime,DepDelay,ArrDelay,Cancelled)\n"
      ],
      "metadata": {
        "id": "OwQZX9gtEcUs"
      },
      "execution_count": null,
      "outputs": []
    },
    {
      "cell_type": "code",
      "source": [
        "str(novoDataset)\n",
        "head(novoDataset)"
      ],
      "metadata": {
        "id": "Wu3Db8dHEsD_",
        "colab": {
          "base_uri": "https://localhost:8080/",
          "height": 425
        },
        "outputId": "e7605fbe-a0c2-4566-ece7-5534111e16e0"
      },
      "execution_count": null,
      "outputs": [
        {
          "output_type": "stream",
          "name": "stdout",
          "text": [
            "tibble [100,000 × 7] (S3: tbl_df/tbl/data.frame)\n",
            " $ Year      : num [1:100000] 2008 2008 2008 2008 2008 ...\n",
            " $ Month     : num [1:100000] 9 9 8 5 5 1 9 10 5 5 ...\n",
            " $ DayofMonth: num [1:100000] 21 18 11 3 13 13 17 8 17 4 ...\n",
            " $ DepTime   : num [1:100000] 1909 1440 2033 1936 2332 ...\n",
            " $ DepDelay  : num [1:100000] 9 -5 -2 6 -8 -8 6 -7 4 -12 ...\n",
            " $ ArrDelay  : num [1:100000] 4 -6 -5 5 -25 -12 6 -13 5 -42 ...\n",
            " $ Cancelled : num [1:100000] 0 0 0 0 0 0 0 0 0 0 ...\n"
          ]
        },
        {
          "output_type": "display_data",
          "data": {
            "text/html": [
              "<table class=\"dataframe\">\n",
              "<caption>A tibble: 6 × 7</caption>\n",
              "<thead>\n",
              "\t<tr><th scope=col>Year</th><th scope=col>Month</th><th scope=col>DayofMonth</th><th scope=col>DepTime</th><th scope=col>DepDelay</th><th scope=col>ArrDelay</th><th scope=col>Cancelled</th></tr>\n",
              "\t<tr><th scope=col>&lt;dbl&gt;</th><th scope=col>&lt;dbl&gt;</th><th scope=col>&lt;dbl&gt;</th><th scope=col>&lt;dbl&gt;</th><th scope=col>&lt;dbl&gt;</th><th scope=col>&lt;dbl&gt;</th><th scope=col>&lt;dbl&gt;</th></tr>\n",
              "</thead>\n",
              "<tbody>\n",
              "\t<tr><td>2008</td><td>9</td><td>21</td><td>1909</td><td> 9</td><td>  4</td><td>0</td></tr>\n",
              "\t<tr><td>2008</td><td>9</td><td>18</td><td>1440</td><td>-5</td><td> -6</td><td>0</td></tr>\n",
              "\t<tr><td>2008</td><td>8</td><td>11</td><td>2033</td><td>-2</td><td> -5</td><td>0</td></tr>\n",
              "\t<tr><td>2008</td><td>5</td><td> 3</td><td>1936</td><td> 6</td><td>  5</td><td>0</td></tr>\n",
              "\t<tr><td>2008</td><td>5</td><td>13</td><td>2332</td><td>-8</td><td>-25</td><td>0</td></tr>\n",
              "\t<tr><td>2008</td><td>1</td><td>13</td><td> 907</td><td>-8</td><td>-12</td><td>0</td></tr>\n",
              "</tbody>\n",
              "</table>\n"
            ],
            "text/markdown": "\nA tibble: 6 × 7\n\n| Year &lt;dbl&gt; | Month &lt;dbl&gt; | DayofMonth &lt;dbl&gt; | DepTime &lt;dbl&gt; | DepDelay &lt;dbl&gt; | ArrDelay &lt;dbl&gt; | Cancelled &lt;dbl&gt; |\n|---|---|---|---|---|---|---|\n| 2008 | 9 | 21 | 1909 |  9 |   4 | 0 |\n| 2008 | 9 | 18 | 1440 | -5 |  -6 | 0 |\n| 2008 | 8 | 11 | 2033 | -2 |  -5 | 0 |\n| 2008 | 5 |  3 | 1936 |  6 |   5 | 0 |\n| 2008 | 5 | 13 | 2332 | -8 | -25 | 0 |\n| 2008 | 1 | 13 |  907 | -8 | -12 | 0 |\n\n",
            "text/latex": "A tibble: 6 × 7\n\\begin{tabular}{lllllll}\n Year & Month & DayofMonth & DepTime & DepDelay & ArrDelay & Cancelled\\\\\n <dbl> & <dbl> & <dbl> & <dbl> & <dbl> & <dbl> & <dbl>\\\\\n\\hline\n\t 2008 & 9 & 21 & 1909 &  9 &   4 & 0\\\\\n\t 2008 & 9 & 18 & 1440 & -5 &  -6 & 0\\\\\n\t 2008 & 8 & 11 & 2033 & -2 &  -5 & 0\\\\\n\t 2008 & 5 &  3 & 1936 &  6 &   5 & 0\\\\\n\t 2008 & 5 & 13 & 2332 & -8 & -25 & 0\\\\\n\t 2008 & 1 & 13 &  907 & -8 & -12 & 0\\\\\n\\end{tabular}\n",
            "text/plain": [
              "  Year Month DayofMonth DepTime DepDelay ArrDelay Cancelled\n",
              "1 2008 9     21         1909     9         4      0        \n",
              "2 2008 9     18         1440    -5        -6      0        \n",
              "3 2008 8     11         2033    -2        -5      0        \n",
              "4 2008 5      3         1936     6         5      0        \n",
              "5 2008 5     13         2332    -8       -25      0        \n",
              "6 2008 1     13          907    -8       -12      0        "
            ]
          },
          "metadata": {}
        }
      ]
    },
    {
      "cell_type": "code",
      "source": [
        "novoDataset <- voos2008 %>%\n",
        "select(Year,Month,DayofMonth,DepTime,DepDelay,ArrDelay,Cancelled) %>%\n",
        "filter(Month == 9)\n",
        "str(novoDataset)"
      ],
      "metadata": {
        "id": "J4LkFnItE0hf",
        "colab": {
          "base_uri": "https://localhost:8080/"
        },
        "outputId": "aad1e6c0-989f-45ab-e529-1eae9b76eb98"
      },
      "execution_count": null,
      "outputs": [
        {
          "output_type": "stream",
          "name": "stdout",
          "text": [
            "tibble [7,739 × 7] (S3: tbl_df/tbl/data.frame)\n",
            " $ Year      : num [1:7739] 2008 2008 2008 2008 2008 ...\n",
            " $ Month     : num [1:7739] 9 9 9 9 9 9 9 9 9 9 ...\n",
            " $ DayofMonth: num [1:7739] 21 18 17 19 11 2 12 15 12 10 ...\n",
            " $ DepTime   : num [1:7739] 1909 1440 1054 1742 1925 ...\n",
            " $ DepDelay  : num [1:7739] 9 -5 6 -3 -5 -5 -5 NA -6 33 ...\n",
            " $ ArrDelay  : num [1:7739] 4 -6 6 -16 11 -15 -10 NA 8 38 ...\n",
            " $ Cancelled : num [1:7739] 0 0 0 0 0 0 0 1 0 0 ...\n"
          ]
        }
      ]
    },
    {
      "cell_type": "markdown",
      "source": [
        "Média de atraso"
      ],
      "metadata": {
        "id": "-vpTrQeJFCc3"
      }
    },
    {
      "cell_type": "code",
      "source": [
        "head(novoDataset$DepDelay)\n",
        "mean(novoDataset$DepDelay, na.rm = TRUE)"
      ],
      "metadata": {
        "id": "t0xjzpthFCAr",
        "colab": {
          "base_uri": "https://localhost:8080/",
          "height": 52
        },
        "outputId": "4397ba40-b771-4f17-8419-5c8b9c12923c"
      },
      "execution_count": null,
      "outputs": [
        {
          "output_type": "display_data",
          "data": {
            "text/html": [
              "<style>\n",
              ".list-inline {list-style: none; margin:0; padding: 0}\n",
              ".list-inline>li {display: inline-block}\n",
              ".list-inline>li:not(:last-child)::after {content: \"\\00b7\"; padding: 0 .5ex}\n",
              "</style>\n",
              "<ol class=list-inline><li>9</li><li>-5</li><li>6</li><li>-3</li><li>-5</li><li>-5</li></ol>\n"
            ],
            "text/markdown": "1. 9\n2. -5\n3. 6\n4. -3\n5. -5\n6. -5\n\n\n",
            "text/latex": "\\begin{enumerate*}\n\\item 9\n\\item -5\n\\item 6\n\\item -3\n\\item -5\n\\item -5\n\\end{enumerate*}\n",
            "text/plain": [
              "[1]  9 -5  6 -3 -5 -5"
            ]
          },
          "metadata": {}
        },
        {
          "output_type": "display_data",
          "data": {
            "text/html": [
              "3.72875773942827"
            ],
            "text/markdown": "3.72875773942827",
            "text/latex": "3.72875773942827",
            "text/plain": [
              "[1] 3.728758"
            ]
          },
          "metadata": {}
        }
      ]
    },
    {
      "cell_type": "code",
      "source": [
        "voos2008 %>%\n",
        " select(Month,DepDelay) %>%\n",
        " group_by(Month)  %>%\n",
        " mutate(atrasoMedio = mean(DepDelay, na.rm = TRUE)) %>%\n",
        " select(Month,atrasoMedio) %>%\n",
        " unique()  %>%\n",
        " arrange(atrasoMedio)"
      ],
      "metadata": {
        "id": "UQZWaLU5FPrr",
        "colab": {
          "base_uri": "https://localhost:8080/",
          "height": 474
        },
        "outputId": "844e3bc6-740b-4252-e6c5-18c3261c4662"
      },
      "execution_count": null,
      "outputs": [
        {
          "output_type": "display_data",
          "data": {
            "text/html": [
              "<table class=\"dataframe\">\n",
              "<caption>A grouped_df: 12 × 2</caption>\n",
              "<thead>\n",
              "\t<tr><th scope=col>Month</th><th scope=col>atrasoMedio</th></tr>\n",
              "\t<tr><th scope=col>&lt;dbl&gt;</th><th scope=col>&lt;dbl&gt;</th></tr>\n",
              "</thead>\n",
              "<tbody>\n",
              "\t<tr><td> 9</td><td> 3.728758</td></tr>\n",
              "\t<tr><td>10</td><td> 4.084229</td></tr>\n",
              "\t<tr><td>11</td><td> 5.606048</td></tr>\n",
              "\t<tr><td> 5</td><td> 7.768342</td></tr>\n",
              "\t<tr><td> 4</td><td> 8.237131</td></tr>\n",
              "\t<tr><td> 8</td><td>10.654034</td></tr>\n",
              "\t<tr><td> 1</td><td>11.328178</td></tr>\n",
              "\t<tr><td> 7</td><td>11.843637</td></tr>\n",
              "\t<tr><td> 3</td><td>12.263297</td></tr>\n",
              "\t<tr><td> 6</td><td>13.610787</td></tr>\n",
              "\t<tr><td> 2</td><td>13.692327</td></tr>\n",
              "\t<tr><td>12</td><td>17.940197</td></tr>\n",
              "</tbody>\n",
              "</table>\n"
            ],
            "text/markdown": "\nA grouped_df: 12 × 2\n\n| Month &lt;dbl&gt; | atrasoMedio &lt;dbl&gt; |\n|---|---|\n|  9 |  3.728758 |\n| 10 |  4.084229 |\n| 11 |  5.606048 |\n|  5 |  7.768342 |\n|  4 |  8.237131 |\n|  8 | 10.654034 |\n|  1 | 11.328178 |\n|  7 | 11.843637 |\n|  3 | 12.263297 |\n|  6 | 13.610787 |\n|  2 | 13.692327 |\n| 12 | 17.940197 |\n\n",
            "text/latex": "A grouped\\_df: 12 × 2\n\\begin{tabular}{ll}\n Month & atrasoMedio\\\\\n <dbl> & <dbl>\\\\\n\\hline\n\t  9 &  3.728758\\\\\n\t 10 &  4.084229\\\\\n\t 11 &  5.606048\\\\\n\t  5 &  7.768342\\\\\n\t  4 &  8.237131\\\\\n\t  8 & 10.654034\\\\\n\t  1 & 11.328178\\\\\n\t  7 & 11.843637\\\\\n\t  3 & 12.263297\\\\\n\t  6 & 13.610787\\\\\n\t  2 & 13.692327\\\\\n\t 12 & 17.940197\\\\\n\\end{tabular}\n",
            "text/plain": [
              "   Month atrasoMedio\n",
              "1   9     3.728758  \n",
              "2  10     4.084229  \n",
              "3  11     5.606048  \n",
              "4   5     7.768342  \n",
              "5   4     8.237131  \n",
              "6   8    10.654034  \n",
              "7   1    11.328178  \n",
              "8   7    11.843637  \n",
              "9   3    12.263297  \n",
              "10  6    13.610787  \n",
              "11  2    13.692327  \n",
              "12 12    17.940197  "
            ]
          },
          "metadata": {}
        }
      ]
    },
    {
      "cell_type": "markdown",
      "source": [
        "## 5.2. Qual aeroporto devemos evitar?\n"
      ],
      "metadata": {
        "id": "zARvIzNVGXB0"
      }
    },
    {
      "cell_type": "code",
      "source": [
        "voos2008 %>%\n",
        " select(Origin, DepDelay) %>%\n",
        " head(10)\n"
      ],
      "metadata": {
        "id": "mGWJiPnOGHQo",
        "colab": {
          "base_uri": "https://localhost:8080/",
          "height": 412
        },
        "outputId": "4a8da12e-3eef-4105-9d2a-9dec063d7e24"
      },
      "execution_count": null,
      "outputs": [
        {
          "output_type": "display_data",
          "data": {
            "text/html": [
              "<table class=\"dataframe\">\n",
              "<caption>A tibble: 10 × 2</caption>\n",
              "<thead>\n",
              "\t<tr><th scope=col>Origin</th><th scope=col>DepDelay</th></tr>\n",
              "\t<tr><th scope=col>&lt;chr&gt;</th><th scope=col>&lt;dbl&gt;</th></tr>\n",
              "</thead>\n",
              "<tbody>\n",
              "\t<tr><td>MCO</td><td>  9</td></tr>\n",
              "\t<tr><td>EWR</td><td> -5</td></tr>\n",
              "\t<tr><td>DFW</td><td> -2</td></tr>\n",
              "\t<tr><td>HNL</td><td>  6</td></tr>\n",
              "\t<tr><td>LAS</td><td> -8</td></tr>\n",
              "\t<tr><td>DFW</td><td> -8</td></tr>\n",
              "\t<tr><td>JAN</td><td>  6</td></tr>\n",
              "\t<tr><td>SLC</td><td> -7</td></tr>\n",
              "\t<tr><td>BOS</td><td>  4</td></tr>\n",
              "\t<tr><td>TUS</td><td>-12</td></tr>\n",
              "</tbody>\n",
              "</table>\n"
            ],
            "text/markdown": "\nA tibble: 10 × 2\n\n| Origin &lt;chr&gt; | DepDelay &lt;dbl&gt; |\n|---|---|\n| MCO |   9 |\n| EWR |  -5 |\n| DFW |  -2 |\n| HNL |   6 |\n| LAS |  -8 |\n| DFW |  -8 |\n| JAN |   6 |\n| SLC |  -7 |\n| BOS |   4 |\n| TUS | -12 |\n\n",
            "text/latex": "A tibble: 10 × 2\n\\begin{tabular}{ll}\n Origin & DepDelay\\\\\n <chr> & <dbl>\\\\\n\\hline\n\t MCO &   9\\\\\n\t EWR &  -5\\\\\n\t DFW &  -2\\\\\n\t HNL &   6\\\\\n\t LAS &  -8\\\\\n\t DFW &  -8\\\\\n\t JAN &   6\\\\\n\t SLC &  -7\\\\\n\t BOS &   4\\\\\n\t TUS & -12\\\\\n\\end{tabular}\n",
            "text/plain": [
              "   Origin DepDelay\n",
              "1  MCO      9     \n",
              "2  EWR     -5     \n",
              "3  DFW     -2     \n",
              "4  HNL      6     \n",
              "5  LAS     -8     \n",
              "6  DFW     -8     \n",
              "7  JAN      6     \n",
              "8  SLC     -7     \n",
              "9  BOS      4     \n",
              "10 TUS    -12     "
            ]
          },
          "metadata": {}
        }
      ]
    },
    {
      "cell_type": "code",
      "source": [
        "voos2008 %>%\n",
        " select(Origin, DepDelay) %>%\n",
        " group_by(Origin) %>%\n",
        " mutate(totalAtraso = sum(DepDelay, na.rm = TRUE)) %>%\n",
        " head(10)"
      ],
      "metadata": {
        "id": "cW7s6dIAGnzY",
        "colab": {
          "base_uri": "https://localhost:8080/",
          "height": 412
        },
        "outputId": "17947993-6af8-40a1-9b63-d81b159d3b56"
      },
      "execution_count": null,
      "outputs": [
        {
          "output_type": "display_data",
          "data": {
            "text/html": [
              "<table class=\"dataframe\">\n",
              "<caption>A grouped_df: 10 × 3</caption>\n",
              "<thead>\n",
              "\t<tr><th scope=col>Origin</th><th scope=col>DepDelay</th><th scope=col>totalAtraso</th></tr>\n",
              "\t<tr><th scope=col>&lt;chr&gt;</th><th scope=col>&lt;dbl&gt;</th><th scope=col>&lt;dbl&gt;</th></tr>\n",
              "</thead>\n",
              "<tbody>\n",
              "\t<tr><td>MCO</td><td>  9</td><td>20649</td></tr>\n",
              "\t<tr><td>EWR</td><td> -5</td><td>35770</td></tr>\n",
              "\t<tr><td>DFW</td><td> -2</td><td>43555</td></tr>\n",
              "\t<tr><td>HNL</td><td>  6</td><td> 1784</td></tr>\n",
              "\t<tr><td>LAS</td><td> -8</td><td>24756</td></tr>\n",
              "\t<tr><td>DFW</td><td> -8</td><td>43555</td></tr>\n",
              "\t<tr><td>JAN</td><td>  6</td><td> 1986</td></tr>\n",
              "\t<tr><td>SLC</td><td> -7</td><td>11334</td></tr>\n",
              "\t<tr><td>BOS</td><td>  4</td><td>16569</td></tr>\n",
              "\t<tr><td>TUS</td><td>-12</td><td> 2322</td></tr>\n",
              "</tbody>\n",
              "</table>\n"
            ],
            "text/markdown": "\nA grouped_df: 10 × 3\n\n| Origin &lt;chr&gt; | DepDelay &lt;dbl&gt; | totalAtraso &lt;dbl&gt; |\n|---|---|---|\n| MCO |   9 | 20649 |\n| EWR |  -5 | 35770 |\n| DFW |  -2 | 43555 |\n| HNL |   6 |  1784 |\n| LAS |  -8 | 24756 |\n| DFW |  -8 | 43555 |\n| JAN |   6 |  1986 |\n| SLC |  -7 | 11334 |\n| BOS |   4 | 16569 |\n| TUS | -12 |  2322 |\n\n",
            "text/latex": "A grouped\\_df: 10 × 3\n\\begin{tabular}{lll}\n Origin & DepDelay & totalAtraso\\\\\n <chr> & <dbl> & <dbl>\\\\\n\\hline\n\t MCO &   9 & 20649\\\\\n\t EWR &  -5 & 35770\\\\\n\t DFW &  -2 & 43555\\\\\n\t HNL &   6 &  1784\\\\\n\t LAS &  -8 & 24756\\\\\n\t DFW &  -8 & 43555\\\\\n\t JAN &   6 &  1986\\\\\n\t SLC &  -7 & 11334\\\\\n\t BOS &   4 & 16569\\\\\n\t TUS & -12 &  2322\\\\\n\\end{tabular}\n",
            "text/plain": [
              "   Origin DepDelay totalAtraso\n",
              "1  MCO      9      20649      \n",
              "2  EWR     -5      35770      \n",
              "3  DFW     -2      43555      \n",
              "4  HNL      6       1784      \n",
              "5  LAS     -8      24756      \n",
              "6  DFW     -8      43555      \n",
              "7  JAN      6       1986      \n",
              "8  SLC     -7      11334      \n",
              "9  BOS      4      16569      \n",
              "10 TUS    -12       2322      "
            ]
          },
          "metadata": {}
        }
      ]
    },
    {
      "cell_type": "code",
      "source": [
        "voos2008 %>%\n",
        " select(Origin, DepDelay) %>%\n",
        " group_by(Origin) %>%\n",
        " mutate(totalAtraso = sum(DepDelay, na.rm = TRUE)) %>%\n",
        " select(Origin, totalAtraso) %>%\n",
        " unique() %>%\n",
        " arrange(desc(totalAtraso)) %>%\n",
        " head(10)"
      ],
      "metadata": {
        "id": "6KHC8HW7Gz1z",
        "colab": {
          "base_uri": "https://localhost:8080/",
          "height": 412
        },
        "outputId": "d05a51e0-3fb8-45bf-eb14-a57bfc3ce300"
      },
      "execution_count": null,
      "outputs": [
        {
          "output_type": "display_data",
          "data": {
            "text/html": [
              "<table class=\"dataframe\">\n",
              "<caption>A grouped_df: 10 × 2</caption>\n",
              "<thead>\n",
              "\t<tr><th scope=col>Origin</th><th scope=col>totalAtraso</th></tr>\n",
              "\t<tr><th scope=col>&lt;chr&gt;</th><th scope=col>&lt;dbl&gt;</th></tr>\n",
              "</thead>\n",
              "<tbody>\n",
              "\t<tr><td>ACK</td><td>78.75000</td></tr>\n",
              "\t<tr><td>OTH</td><td>51.42857</td></tr>\n",
              "\t<tr><td>WRG</td><td>38.50000</td></tr>\n",
              "\t<tr><td>GUC</td><td>38.15385</td></tr>\n",
              "\t<tr><td>CDV</td><td>35.90000</td></tr>\n",
              "\t<tr><td>BGM</td><td>29.75000</td></tr>\n",
              "\t<tr><td>FLO</td><td>28.62500</td></tr>\n",
              "\t<tr><td>EYW</td><td>28.33333</td></tr>\n",
              "\t<tr><td>CWA</td><td>28.18750</td></tr>\n",
              "\t<tr><td>SBN</td><td>26.37681</td></tr>\n",
              "</tbody>\n",
              "</table>\n"
            ],
            "text/markdown": "\nA grouped_df: 10 × 2\n\n| Origin &lt;chr&gt; | totalAtraso &lt;dbl&gt; |\n|---|---|\n| ACK | 78.75000 |\n| OTH | 51.42857 |\n| WRG | 38.50000 |\n| GUC | 38.15385 |\n| CDV | 35.90000 |\n| BGM | 29.75000 |\n| FLO | 28.62500 |\n| EYW | 28.33333 |\n| CWA | 28.18750 |\n| SBN | 26.37681 |\n\n",
            "text/latex": "A grouped\\_df: 10 × 2\n\\begin{tabular}{ll}\n Origin & totalAtraso\\\\\n <chr> & <dbl>\\\\\n\\hline\n\t ACK & 78.75000\\\\\n\t OTH & 51.42857\\\\\n\t WRG & 38.50000\\\\\n\t GUC & 38.15385\\\\\n\t CDV & 35.90000\\\\\n\t BGM & 29.75000\\\\\n\t FLO & 28.62500\\\\\n\t EYW & 28.33333\\\\\n\t CWA & 28.18750\\\\\n\t SBN & 26.37681\\\\\n\\end{tabular}\n",
            "text/plain": [
              "   Origin totalAtraso\n",
              "1  ACK    78.75000   \n",
              "2  OTH    51.42857   \n",
              "3  WRG    38.50000   \n",
              "4  GUC    38.15385   \n",
              "5  CDV    35.90000   \n",
              "6  BGM    29.75000   \n",
              "7  FLO    28.62500   \n",
              "8  EYW    28.33333   \n",
              "9  CWA    28.18750   \n",
              "10 SBN    26.37681   "
            ]
          },
          "metadata": {}
        }
      ]
    },
    {
      "cell_type": "markdown",
      "source": [
        "## 5.3 Voos cancelados"
      ],
      "metadata": {
        "id": "J97_TAiJHGAZ"
      }
    },
    {
      "cell_type": "code",
      "source": [
        "voosCancelados <- voos2008 %>%\n",
        " select(Cancelled, CancellationCode) %>%\n",
        "     filter(Cancelled == 1) %>%\n",
        "   group_by(CancellationCode) %>%\n",
        " mutate(totalAtraso = sum(Cancelled)) %>%\n",
        "     select(CancellationCode, totalAtraso) %>%\n",
        " unique() %>%\n",
        "             arrange(desc(totalAtraso))\n",
        "head(voosCancelados)"
      ],
      "metadata": {
        "id": "eIrNimktHH_b",
        "colab": {
          "base_uri": "https://localhost:8080/",
          "height": 192
        },
        "outputId": "f2fec9a7-afcc-476f-c9e8-13488f0a9e99"
      },
      "execution_count": null,
      "outputs": [
        {
          "output_type": "display_data",
          "data": {
            "text/html": [
              "<table class=\"dataframe\">\n",
              "<caption>A grouped_df: 3 × 2</caption>\n",
              "<thead>\n",
              "\t<tr><th scope=col>CancellationCode</th><th scope=col>totalAtraso</th></tr>\n",
              "\t<tr><th scope=col>&lt;chr&gt;</th><th scope=col>&lt;dbl&gt;</th></tr>\n",
              "</thead>\n",
              "<tbody>\n",
              "\t<tr><td>A</td><td>790</td></tr>\n",
              "\t<tr><td>B</td><td>785</td></tr>\n",
              "\t<tr><td>C</td><td>416</td></tr>\n",
              "</tbody>\n",
              "</table>\n"
            ],
            "text/markdown": "\nA grouped_df: 3 × 2\n\n| CancellationCode &lt;chr&gt; | totalAtraso &lt;dbl&gt; |\n|---|---|\n| A | 790 |\n| B | 785 |\n| C | 416 |\n\n",
            "text/latex": "A grouped\\_df: 3 × 2\n\\begin{tabular}{ll}\n CancellationCode & totalAtraso\\\\\n <chr> & <dbl>\\\\\n\\hline\n\t A & 790\\\\\n\t B & 785\\\\\n\t C & 416\\\\\n\\end{tabular}\n",
            "text/plain": [
              "  CancellationCode totalAtraso\n",
              "1 A                790        \n",
              "2 B                785        \n",
              "3 C                416        "
            ]
          },
          "metadata": {}
        }
      ]
    },
    {
      "cell_type": "code",
      "source": [
        "codigoCancelamento = c('A','B','C','D')\n",
        "descricaoCancelamento = c('Operadora', 'Clima', 'NAS', 'Segurança')\n",
        "\n"
      ],
      "metadata": {
        "id": "IdVQvuJ6HTJC"
      },
      "execution_count": null,
      "outputs": []
    },
    {
      "cell_type": "code",
      "source": [
        "tiposOcorrencias <- data.frame(Codigo = codigoCancelamento, Descricao =\n",
        "descricaoCancelamento)\n",
        "head(tiposOcorrencias)"
      ],
      "metadata": {
        "id": "AD1tRHcjHqZe",
        "colab": {
          "base_uri": "https://localhost:8080/",
          "height": 224
        },
        "outputId": "053f90e3-fc28-4b42-f8ae-7c6e03a99432"
      },
      "execution_count": null,
      "outputs": [
        {
          "output_type": "display_data",
          "data": {
            "text/html": [
              "<table class=\"dataframe\">\n",
              "<caption>A data.frame: 4 × 2</caption>\n",
              "<thead>\n",
              "\t<tr><th></th><th scope=col>Codigo</th><th scope=col>Descricao</th></tr>\n",
              "\t<tr><th></th><th scope=col>&lt;chr&gt;</th><th scope=col>&lt;chr&gt;</th></tr>\n",
              "</thead>\n",
              "<tbody>\n",
              "\t<tr><th scope=row>1</th><td>A</td><td>Operadora</td></tr>\n",
              "\t<tr><th scope=row>2</th><td>B</td><td>Clima    </td></tr>\n",
              "\t<tr><th scope=row>3</th><td>C</td><td>NAS      </td></tr>\n",
              "\t<tr><th scope=row>4</th><td>D</td><td>Segurança</td></tr>\n",
              "</tbody>\n",
              "</table>\n"
            ],
            "text/markdown": "\nA data.frame: 4 × 2\n\n| <!--/--> | Codigo &lt;chr&gt; | Descricao &lt;chr&gt; |\n|---|---|---|\n| 1 | A | Operadora |\n| 2 | B | Clima     |\n| 3 | C | NAS       |\n| 4 | D | Segurança |\n\n",
            "text/latex": "A data.frame: 4 × 2\n\\begin{tabular}{r|ll}\n  & Codigo & Descricao\\\\\n  & <chr> & <chr>\\\\\n\\hline\n\t1 & A & Operadora\\\\\n\t2 & B & Clima    \\\\\n\t3 & C & NAS      \\\\\n\t4 & D & Segurança\\\\\n\\end{tabular}\n",
            "text/plain": [
              "  Codigo Descricao\n",
              "1 A      Operadora\n",
              "2 B      Clima    \n",
              "3 C      NAS      \n",
              "4 D      Segurança"
            ]
          },
          "metadata": {}
        }
      ]
    },
    {
      "cell_type": "code",
      "source": [
        "a <- inner_join(x=voosCancelados,y=tiposOcorrencias, by = c(\"CancellationCode\" =\n",
        "\"Codigo\"))  \n",
        "\n",
        "a %>% select(Descricao, totalAtraso)"
      ],
      "metadata": {
        "id": "USkWwTC3Hgii",
        "colab": {
          "base_uri": "https://localhost:8080/",
          "height": 210
        },
        "outputId": "87c9be3b-8423-471b-b358-c4d5476c89fc"
      },
      "execution_count": null,
      "outputs": [
        {
          "output_type": "stream",
          "name": "stderr",
          "text": [
            "\u001b[1m\u001b[22mAdding missing grouping variables: `CancellationCode`\n"
          ]
        },
        {
          "output_type": "display_data",
          "data": {
            "text/html": [
              "<table class=\"dataframe\">\n",
              "<caption>A grouped_df: 3 × 3</caption>\n",
              "<thead>\n",
              "\t<tr><th scope=col>CancellationCode</th><th scope=col>Descricao</th><th scope=col>totalAtraso</th></tr>\n",
              "\t<tr><th scope=col>&lt;chr&gt;</th><th scope=col>&lt;chr&gt;</th><th scope=col>&lt;dbl&gt;</th></tr>\n",
              "</thead>\n",
              "<tbody>\n",
              "\t<tr><td>A</td><td>Operadora</td><td>790</td></tr>\n",
              "\t<tr><td>B</td><td>Clima    </td><td>785</td></tr>\n",
              "\t<tr><td>C</td><td>NAS      </td><td>416</td></tr>\n",
              "</tbody>\n",
              "</table>\n"
            ],
            "text/markdown": "\nA grouped_df: 3 × 3\n\n| CancellationCode &lt;chr&gt; | Descricao &lt;chr&gt; | totalAtraso &lt;dbl&gt; |\n|---|---|---|\n| A | Operadora | 790 |\n| B | Clima     | 785 |\n| C | NAS       | 416 |\n\n",
            "text/latex": "A grouped\\_df: 3 × 3\n\\begin{tabular}{lll}\n CancellationCode & Descricao & totalAtraso\\\\\n <chr> & <chr> & <dbl>\\\\\n\\hline\n\t A & Operadora & 790\\\\\n\t B & Clima     & 785\\\\\n\t C & NAS       & 416\\\\\n\\end{tabular}\n",
            "text/plain": [
              "  CancellationCode Descricao totalAtraso\n",
              "1 A                Operadora 790        \n",
              "2 B                Clima     785        \n",
              "3 C                NAS       416        "
            ]
          },
          "metadata": {}
        }
      ]
    },
    {
      "cell_type": "markdown",
      "source": [
        "## Desafios Adicional\n",
        "\n"
      ],
      "metadata": {
        "id": "3p-cGhPxFcH-"
      }
    },
    {
      "cell_type": "markdown",
      "source": [
        "### Pergunta 1) Aproveitando a função mutate, como deve ser feito o cálculo de tempo\n",
        "médio de atraso de voo com todas as observações (linhas) que temos no dataset original?\n",
        "Mostre os dez primeiros registros deste resultado."
      ],
      "metadata": {
        "id": "0HM7qQwBH3uF"
      }
    },
    {
      "cell_type": "code",
      "source": [
        "voos2008 %>%\n",
        " select(ArrTime,CRSArrTime, ArrDelay, TailNum, Month) %>%\n",
        " group_by(TailNum) %>%\n",
        " mutate(tempoAtraso = mean(ArrTime - CRSArrTime)) %>%\n",
        " select(TailNum, tempoAtraso) %>%\n",
        " unique() %>%\n",
        " arrange(tempoAtraso, TailNum) %>%\n",
        " head(10)"
      ],
      "metadata": {
        "id": "qjTDSmIEFdXa",
        "colab": {
          "base_uri": "https://localhost:8080/",
          "height": 412
        },
        "outputId": "cd456a92-2059-43b2-df16-0a6cd52dbdf6"
      },
      "execution_count": null,
      "outputs": [
        {
          "output_type": "display_data",
          "data": {
            "text/html": [
              "<table class=\"dataframe\">\n",
              "<caption>A grouped_df: 10 × 2</caption>\n",
              "<thead>\n",
              "\t<tr><th scope=col>TailNum</th><th scope=col>tempoAtraso</th></tr>\n",
              "\t<tr><th scope=col>&lt;chr&gt;</th><th scope=col>&lt;dbl&gt;</th></tr>\n",
              "</thead>\n",
              "<tbody>\n",
              "\t<tr><td>N245AY</td><td>-2030.0000</td></tr>\n",
              "\t<tr><td>N289YV</td><td>-1174.0000</td></tr>\n",
              "\t<tr><td>N1610D</td><td>-1105.0000</td></tr>\n",
              "\t<tr><td>N067AA</td><td>-1073.0000</td></tr>\n",
              "\t<tr><td>N3DCAA</td><td> -919.6000</td></tr>\n",
              "\t<tr><td>N791UA</td><td> -794.6667</td></tr>\n",
              "\t<tr><td>N200UU</td><td> -779.3333</td></tr>\n",
              "\t<tr><td>N583HA</td><td> -748.3333</td></tr>\n",
              "\t<tr><td>N078AA</td><td> -705.0000</td></tr>\n",
              "\t<tr><td>N062AA</td><td> -686.0000</td></tr>\n",
              "</tbody>\n",
              "</table>\n"
            ],
            "text/markdown": "\nA grouped_df: 10 × 2\n\n| TailNum &lt;chr&gt; | tempoAtraso &lt;dbl&gt; |\n|---|---|\n| N245AY | -2030.0000 |\n| N289YV | -1174.0000 |\n| N1610D | -1105.0000 |\n| N067AA | -1073.0000 |\n| N3DCAA |  -919.6000 |\n| N791UA |  -794.6667 |\n| N200UU |  -779.3333 |\n| N583HA |  -748.3333 |\n| N078AA |  -705.0000 |\n| N062AA |  -686.0000 |\n\n",
            "text/latex": "A grouped\\_df: 10 × 2\n\\begin{tabular}{ll}\n TailNum & tempoAtraso\\\\\n <chr> & <dbl>\\\\\n\\hline\n\t N245AY & -2030.0000\\\\\n\t N289YV & -1174.0000\\\\\n\t N1610D & -1105.0000\\\\\n\t N067AA & -1073.0000\\\\\n\t N3DCAA &  -919.6000\\\\\n\t N791UA &  -794.6667\\\\\n\t N200UU &  -779.3333\\\\\n\t N583HA &  -748.3333\\\\\n\t N078AA &  -705.0000\\\\\n\t N062AA &  -686.0000\\\\\n\\end{tabular}\n",
            "text/plain": [
              "   TailNum tempoAtraso\n",
              "1  N245AY  -2030.0000 \n",
              "2  N289YV  -1174.0000 \n",
              "3  N1610D  -1105.0000 \n",
              "4  N067AA  -1073.0000 \n",
              "5  N3DCAA   -919.6000 \n",
              "6  N791UA   -794.6667 \n",
              "7  N200UU   -779.3333 \n",
              "8  N583HA   -748.3333 \n",
              "9  N078AA   -705.0000 \n",
              "10 N062AA   -686.0000 "
            ]
          },
          "metadata": {}
        }
      ]
    },
    {
      "cell_type": "markdown",
      "source": [
        "### Pergunta 2) No experimento para mostrar o mês com menos atrasos, o que acontece se\n",
        "executar a função unique() antes de executar a função select?\n",
        "\n",
        "\n",
        "> Resposta 2) Como o conjunto de dados possui muitas variáveis ainda (5 no total), a função unique faz com que os dados repetidos sejam removidos. Porém, ela usa todas as variáveis existentes naquele momento, fazendo com que as 5 variáveis sejam utlizadas. Para garantir que somente as 12 observações sejam apresentadas, coloque a função unique no momento que realmente precise fazer a remoção de valores duplicados\n",
        "\n",
        "\n",
        "\n",
        "\n",
        "\n",
        "\n",
        "\n"
      ],
      "metadata": {
        "id": "UAM7GpLwFqeK"
      }
    },
    {
      "cell_type": "code",
      "source": [
        "  voos2008 %>%\n",
        " select(Month,DepDelay) %>%\n",
        " group_by(Month) %>%\n",
        " mutate(atrasoMedio = mean(DepDelay, na.rm = TRUE))  %>%\n",
        "  unique() %>% \n",
        " select(Month,atrasoMedio) %>%\n",
        "\n",
        " arrange(atrasoMedio)"
      ],
      "metadata": {
        "id": "wgEBi9VeFnA7",
        "colab": {
          "base_uri": "https://localhost:8080/",
          "height": 474
        },
        "outputId": "c4a1113b-4ea6-437f-e1b5-6ac3810f1c85"
      },
      "execution_count": null,
      "outputs": [
        {
          "output_type": "display_data",
          "data": {
            "text/html": [
              "<table class=\"dataframe\">\n",
              "<caption>A grouped_df: 12 × 2</caption>\n",
              "<thead>\n",
              "\t<tr><th scope=col>Month</th><th scope=col>atrasoMedio</th></tr>\n",
              "\t<tr><th scope=col>&lt;dbl&gt;</th><th scope=col>&lt;dbl&gt;</th></tr>\n",
              "</thead>\n",
              "<tbody>\n",
              "\t<tr><td> 9</td><td> 3.728758</td></tr>\n",
              "\t<tr><td>10</td><td> 4.084229</td></tr>\n",
              "\t<tr><td>11</td><td> 5.606048</td></tr>\n",
              "\t<tr><td> 5</td><td> 7.768342</td></tr>\n",
              "\t<tr><td> 4</td><td> 8.237131</td></tr>\n",
              "\t<tr><td> 8</td><td>10.654034</td></tr>\n",
              "\t<tr><td> 1</td><td>11.328178</td></tr>\n",
              "\t<tr><td> 7</td><td>11.843637</td></tr>\n",
              "\t<tr><td> 3</td><td>12.263297</td></tr>\n",
              "\t<tr><td> 6</td><td>13.610787</td></tr>\n",
              "\t<tr><td> 2</td><td>13.692327</td></tr>\n",
              "\t<tr><td>12</td><td>17.940197</td></tr>\n",
              "</tbody>\n",
              "</table>\n"
            ],
            "text/markdown": "\nA grouped_df: 12 × 2\n\n| Month &lt;dbl&gt; | atrasoMedio &lt;dbl&gt; |\n|---|---|\n|  9 |  3.728758 |\n| 10 |  4.084229 |\n| 11 |  5.606048 |\n|  5 |  7.768342 |\n|  4 |  8.237131 |\n|  8 | 10.654034 |\n|  1 | 11.328178 |\n|  7 | 11.843637 |\n|  3 | 12.263297 |\n|  6 | 13.610787 |\n|  2 | 13.692327 |\n| 12 | 17.940197 |\n\n",
            "text/latex": "A grouped\\_df: 12 × 2\n\\begin{tabular}{ll}\n Month & atrasoMedio\\\\\n <dbl> & <dbl>\\\\\n\\hline\n\t  9 &  3.728758\\\\\n\t 10 &  4.084229\\\\\n\t 11 &  5.606048\\\\\n\t  5 &  7.768342\\\\\n\t  4 &  8.237131\\\\\n\t  8 & 10.654034\\\\\n\t  1 & 11.328178\\\\\n\t  7 & 11.843637\\\\\n\t  3 & 12.263297\\\\\n\t  6 & 13.610787\\\\\n\t  2 & 13.692327\\\\\n\t 12 & 17.940197\\\\\n\\end{tabular}\n",
            "text/plain": [
              "   Month atrasoMedio\n",
              "1   9     3.728758  \n",
              "2  10     4.084229  \n",
              "3  11     5.606048  \n",
              "4   5     7.768342  \n",
              "5   4     8.237131  \n",
              "6   8    10.654034  \n",
              "7   1    11.328178  \n",
              "8   7    11.843637  \n",
              "9   3    12.263297  \n",
              "10  6    13.610787  \n",
              "11  2    13.692327  \n",
              "12 12    17.940197  "
            ]
          },
          "metadata": {}
        }
      ]
    }
  ],
  "metadata": {
    "kernelspec": {
      "display_name": "R",
      "language": "R",
      "name": "ir"
    },
    "language_info": {
      "codemirror_mode": "r",
      "file_extension": ".r",
      "mimetype": "text/x-r-source",
      "name": "R",
      "pygments_lexer": "r",
      "version": "4.1.0"
    },
    "colab": {
      "name": "[Nogare] Trilha 6 - Download dataset.ipynb",
      "provenance": [],
      "include_colab_link": true
    }
  },
  "nbformat": 4,
  "nbformat_minor": 0
}